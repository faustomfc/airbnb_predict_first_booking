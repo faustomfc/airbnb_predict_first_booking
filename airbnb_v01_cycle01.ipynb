{
 "cells": [
  {
   "cell_type": "markdown",
   "id": "8673b99c",
   "metadata": {},
   "source": [
    "# Ciclo01: End to End"
   ]
  },
  {
   "cell_type": "markdown",
   "id": "de563015",
   "metadata": {},
   "source": [
    "# 0.0 - IMPORTS "
   ]
  },
  {
   "cell_type": "code",
   "execution_count": 70,
   "id": "c6973b99",
   "metadata": {
    "ExecuteTime": {
     "end_time": "2022-03-19T19:16:10.720390Z",
     "start_time": "2022-03-19T19:16:07.714320Z"
    }
   },
   "outputs": [],
   "source": [
    "import pandas as pd\n",
    "from sklearn import  model_selection as ms\n",
    "from sklearn import preprocessing as pp\n",
    "from sklearn import metrics as m\n",
    "from scikitplot import metrics as mt\n",
    "\n",
    "from keras import models as ml\n",
    "from keras import layers as l"
   ]
  },
  {
   "cell_type": "markdown",
   "id": "59d1f3a0",
   "metadata": {},
   "source": [
    "## 0.1 - Helper functions"
   ]
  },
  {
   "cell_type": "markdown",
   "id": "5798c28b",
   "metadata": {
    "heading_collapsed": true
   },
   "source": [
    "## 0.2 - Loading data"
   ]
  },
  {
   "cell_type": "code",
   "execution_count": 2,
   "id": "fe8e7787",
   "metadata": {
    "ExecuteTime": {
     "end_time": "2022-03-19T18:10:50.672322Z",
     "start_time": "2022-03-19T18:10:41.073493Z"
    },
    "hidden": true
   },
   "outputs": [],
   "source": [
    "df_raw = pd.read_csv('dataset/train_users_2.csv', low_memory=True)\n",
    "df_sessions = pd.read_csv('dataset/sessions.csv', low_memory=True)"
   ]
  },
  {
   "cell_type": "markdown",
   "id": "5b6952ba",
   "metadata": {},
   "source": [
    "# 1.0 - DATA DESCRIPTION"
   ]
  },
  {
   "cell_type": "code",
   "execution_count": 17,
   "id": "e939a4bf",
   "metadata": {
    "ExecuteTime": {
     "end_time": "2022-03-19T18:23:49.076742Z",
     "start_time": "2022-03-19T18:23:49.047810Z"
    }
   },
   "outputs": [],
   "source": [
    "df1 = df_raw.copy()"
   ]
  },
  {
   "cell_type": "code",
   "execution_count": 18,
   "id": "5015e8b4",
   "metadata": {
    "ExecuteTime": {
     "end_time": "2022-03-19T18:23:49.328041Z",
     "start_time": "2022-03-19T18:23:49.323282Z"
    }
   },
   "outputs": [
    {
     "name": "stdout",
     "output_type": "stream",
     "text": [
      "Number of rows: 213451\n",
      "Number of columns: 16\n"
     ]
    }
   ],
   "source": [
    "print('Number of rows: {}'.format(df1.shape[0]))\n",
    "print('Number of columns: {}'.format(df1.shape[1]))"
   ]
  },
  {
   "cell_type": "markdown",
   "id": "22e90b89",
   "metadata": {
    "heading_collapsed": true
   },
   "source": [
    "## 1.1 - Data type"
   ]
  },
  {
   "cell_type": "code",
   "execution_count": 19,
   "id": "81f2bd44",
   "metadata": {
    "ExecuteTime": {
     "end_time": "2022-03-19T18:23:49.805167Z",
     "start_time": "2022-03-19T18:23:49.798056Z"
    },
    "hidden": true
   },
   "outputs": [
    {
     "data": {
      "text/plain": [
       "id                          object\n",
       "date_account_created        object\n",
       "timestamp_first_active       int64\n",
       "date_first_booking          object\n",
       "gender                      object\n",
       "age                        float64\n",
       "signup_method               object\n",
       "signup_flow                  int64\n",
       "language                    object\n",
       "affiliate_channel           object\n",
       "affiliate_provider          object\n",
       "first_affiliate_tracked     object\n",
       "signup_app                  object\n",
       "first_device_type           object\n",
       "first_browser               object\n",
       "country_destination         object\n",
       "dtype: object"
      ]
     },
     "execution_count": 19,
     "metadata": {},
     "output_type": "execute_result"
    }
   ],
   "source": [
    "df1.dtypes"
   ]
  },
  {
   "cell_type": "markdown",
   "id": "01aeecc6",
   "metadata": {
    "heading_collapsed": true
   },
   "source": [
    "## 1.2 - NA check"
   ]
  },
  {
   "cell_type": "code",
   "execution_count": 20,
   "id": "360be205",
   "metadata": {
    "ExecuteTime": {
     "end_time": "2022-03-19T18:23:50.933182Z",
     "start_time": "2022-03-19T18:23:50.528265Z"
    },
    "hidden": true
   },
   "outputs": [
    {
     "data": {
      "text/plain": [
       "id                              0\n",
       "date_account_created            0\n",
       "timestamp_first_active          0\n",
       "date_first_booking         124543\n",
       "gender                          0\n",
       "age                         87990\n",
       "signup_method                   0\n",
       "signup_flow                     0\n",
       "language                        0\n",
       "affiliate_channel               0\n",
       "affiliate_provider              0\n",
       "first_affiliate_tracked      6065\n",
       "signup_app                      0\n",
       "first_device_type               0\n",
       "first_browser                   0\n",
       "country_destination             0\n",
       "dtype: int64"
      ]
     },
     "execution_count": 20,
     "metadata": {},
     "output_type": "execute_result"
    }
   ],
   "source": [
    "df1.isna().sum()"
   ]
  },
  {
   "cell_type": "code",
   "execution_count": 21,
   "id": "e4031c83",
   "metadata": {
    "ExecuteTime": {
     "end_time": "2022-03-19T18:23:51.471788Z",
     "start_time": "2022-03-19T18:23:50.974940Z"
    },
    "hidden": true
   },
   "outputs": [
    {
     "data": {
      "text/plain": [
       "(68171, 16)"
      ]
     },
     "execution_count": 21,
     "metadata": {},
     "output_type": "execute_result"
    }
   ],
   "source": [
    "df1 = df1.dropna()\n",
    "df1.shape"
   ]
  },
  {
   "cell_type": "markdown",
   "id": "1b45476b",
   "metadata": {
    "heading_collapsed": true
   },
   "source": [
    "## 1.3 - Change dtypes"
   ]
  },
  {
   "cell_type": "code",
   "execution_count": 22,
   "id": "f874bf6f",
   "metadata": {
    "ExecuteTime": {
     "end_time": "2022-03-19T18:23:53.216399Z",
     "start_time": "2022-03-19T18:23:52.831431Z"
    },
    "hidden": true
   },
   "outputs": [],
   "source": [
    "# date_account_created\n",
    "df1['date_account_created'] = pd.to_datetime(df1['date_account_created'])\n",
    "\n",
    "# timestamp_first_active\n",
    "df1['timestamp_first_active'] = pd.to_datetime(df1['timestamp_first_active'], format='%Y%m%d%H%M%S')\n",
    "\n",
    "#date_first_booking\n",
    "df1['date_first_booking'] = pd.to_datetime(df1['date_first_booking'])\n",
    "\n",
    "# age\n",
    "df1['age'] = df1['age'].astype(int)"
   ]
  },
  {
   "cell_type": "markdown",
   "id": "829d31ac",
   "metadata": {
    "heading_collapsed": true
   },
   "source": [
    "## 1.4 - Check balanced data"
   ]
  },
  {
   "cell_type": "code",
   "execution_count": 23,
   "id": "c5cfa969",
   "metadata": {
    "ExecuteTime": {
     "end_time": "2022-03-19T18:24:50.508314Z",
     "start_time": "2022-03-19T18:24:50.495519Z"
    },
    "hidden": true
   },
   "outputs": [
    {
     "data": {
      "text/plain": [
       "US       0.708864\n",
       "other    0.110854\n",
       "FR       0.054085\n",
       "IT       0.029763\n",
       "GB       0.025935\n",
       "ES       0.024864\n",
       "CA       0.015696\n",
       "DE       0.012454\n",
       "NL       0.008801\n",
       "AU       0.006366\n",
       "PT       0.002318\n",
       "Name: country_destination, dtype: float64"
      ]
     },
     "execution_count": 23,
     "metadata": {},
     "output_type": "execute_result"
    }
   ],
   "source": [
    "df1['country_destination'].value_counts(normalize=True)"
   ]
  },
  {
   "cell_type": "markdown",
   "id": "007642ca",
   "metadata": {},
   "source": [
    "# 2.0 - DATA FILTERING"
   ]
  },
  {
   "cell_type": "code",
   "execution_count": 25,
   "id": "94f57e56",
   "metadata": {
    "ExecuteTime": {
     "end_time": "2022-03-19T18:28:00.477521Z",
     "start_time": "2022-03-19T18:28:00.469080Z"
    }
   },
   "outputs": [],
   "source": [
    "df2 = df1.copy()"
   ]
  },
  {
   "cell_type": "markdown",
   "id": "f0aacd64",
   "metadata": {
    "heading_collapsed": true
   },
   "source": [
    "## 2.1 - Filtering rows"
   ]
  },
  {
   "cell_type": "code",
   "execution_count": null,
   "id": "86e5274f",
   "metadata": {
    "hidden": true
   },
   "outputs": [],
   "source": []
  },
  {
   "cell_type": "markdown",
   "id": "afb4351e",
   "metadata": {
    "heading_collapsed": true
   },
   "source": [
    "## 2.2 - Columns selection"
   ]
  },
  {
   "cell_type": "code",
   "execution_count": null,
   "id": "f19d7933",
   "metadata": {
    "hidden": true
   },
   "outputs": [],
   "source": []
  },
  {
   "cell_type": "markdown",
   "id": "e5d9a2f9",
   "metadata": {},
   "source": [
    "# 3.0 - DATA PREPARATION"
   ]
  },
  {
   "cell_type": "code",
   "execution_count": 54,
   "id": "195be962",
   "metadata": {
    "ExecuteTime": {
     "end_time": "2022-03-19T19:03:54.921059Z",
     "start_time": "2022-03-19T19:03:54.915111Z"
    }
   },
   "outputs": [],
   "source": [
    "df3 = df2.copy()"
   ]
  },
  {
   "cell_type": "code",
   "execution_count": 55,
   "id": "520546bf",
   "metadata": {
    "ExecuteTime": {
     "end_time": "2022-03-19T19:03:55.353644Z",
     "start_time": "2022-03-19T19:03:55.207673Z"
    }
   },
   "outputs": [],
   "source": [
    "# dummy variable\n",
    "df3_dummy = pd.get_dummies(df3.drop(['id', 'country_destination'], axis=1))\n",
    "\n",
    "# join id and country destination\n",
    "df3 = pd.concat([df3[['id', 'country_destination']], df3_dummy], axis=1)"
   ]
  },
  {
   "cell_type": "markdown",
   "id": "a2053d92",
   "metadata": {},
   "source": [
    "# 4.0 - FEATURE SELECTION"
   ]
  },
  {
   "cell_type": "code",
   "execution_count": 56,
   "id": "bf148b0e",
   "metadata": {
    "ExecuteTime": {
     "end_time": "2022-03-19T19:04:29.422251Z",
     "start_time": "2022-03-19T19:04:29.404800Z"
    }
   },
   "outputs": [],
   "source": [
    "cols_drop = ['date_account_created', 'timestamp_first_active', 'date_first_booking']\n",
    "df4 = df3.drop(cols_drop, axis=1)"
   ]
  },
  {
   "cell_type": "markdown",
   "id": "e05948c8",
   "metadata": {},
   "source": [
    "# 5.0 MACHINE LEARNING MODEL - NEURAL NETWORK MLP"
   ]
  },
  {
   "cell_type": "code",
   "execution_count": 57,
   "id": "d57faa84",
   "metadata": {
    "ExecuteTime": {
     "end_time": "2022-03-19T19:04:30.579207Z",
     "start_time": "2022-03-19T19:04:30.566174Z"
    }
   },
   "outputs": [],
   "source": [
    "X = df4.drop(['country_destination'], axis=1)\n",
    "y = df4['country_destination'].copy()"
   ]
  },
  {
   "cell_type": "code",
   "execution_count": 58,
   "id": "be7ff58b",
   "metadata": {
    "ExecuteTime": {
     "end_time": "2022-03-19T19:04:44.155367Z",
     "start_time": "2022-03-19T19:04:44.077134Z"
    }
   },
   "outputs": [],
   "source": [
    "# Split dataset into training and test\n",
    "X_train, X_test, y_train, y_test = ms.train_test_split(X, y, test_size=0.2, random_state=32)"
   ]
  },
  {
   "cell_type": "code",
   "execution_count": 59,
   "id": "4f187523",
   "metadata": {
    "ExecuteTime": {
     "end_time": "2022-03-19T19:04:45.263608Z",
     "start_time": "2022-03-19T19:04:45.252450Z"
    }
   },
   "outputs": [],
   "source": [
    "x_train = X_train.drop('id', axis=1)\n",
    "x_test = X_test.drop('id', axis=1)"
   ]
  },
  {
   "cell_type": "code",
   "execution_count": 60,
   "id": "df849527",
   "metadata": {
    "ExecuteTime": {
     "end_time": "2022-03-19T19:04:46.633201Z",
     "start_time": "2022-03-19T19:04:46.613073Z"
    }
   },
   "outputs": [],
   "source": [
    "ohe = pp.OneHotEncoder()\n",
    "y_train_nn = ohe.fit_transform(y_train.values.reshape(-1,1)).toarray()"
   ]
  },
  {
   "cell_type": "code",
   "execution_count": 63,
   "id": "db8bca93",
   "metadata": {
    "ExecuteTime": {
     "end_time": "2022-03-19T19:12:15.336925Z",
     "start_time": "2022-03-19T19:06:26.132223Z"
    }
   },
   "outputs": [
    {
     "name": "stdout",
     "output_type": "stream",
     "text": [
      "Epoch 1/100\n",
      "1705/1705 [==============================] - 4s 2ms/step - loss: 1.3184 - accuracy: 0.7054\n",
      "Epoch 2/100\n",
      "1705/1705 [==============================] - 4s 2ms/step - loss: 1.2734 - accuracy: 0.7078\n",
      "Epoch 3/100\n",
      "1705/1705 [==============================] - 4s 2ms/step - loss: 1.2261 - accuracy: 0.7082\n",
      "Epoch 4/100\n",
      "1705/1705 [==============================] - 4s 2ms/step - loss: 1.2057 - accuracy: 0.7081\n",
      "Epoch 5/100\n",
      "1705/1705 [==============================] - 4s 2ms/step - loss: 1.1868 - accuracy: 0.7087\n",
      "Epoch 6/100\n",
      "1705/1705 [==============================] - 4s 2ms/step - loss: 1.1688 - accuracy: 0.7087\n",
      "Epoch 7/100\n",
      "1705/1705 [==============================] - 4s 2ms/step - loss: 1.1613 - accuracy: 0.7085\n",
      "Epoch 8/100\n",
      "1705/1705 [==============================] - 4s 2ms/step - loss: 1.1467 - accuracy: 0.7087\n",
      "Epoch 9/100\n",
      "1705/1705 [==============================] - 3s 2ms/step - loss: 1.1414 - accuracy: 0.7090\n",
      "Epoch 10/100\n",
      "1705/1705 [==============================] - 4s 2ms/step - loss: 1.1338 - accuracy: 0.7093\n",
      "Epoch 11/100\n",
      "1705/1705 [==============================] - 4s 2ms/step - loss: 1.1332 - accuracy: 0.7095\n",
      "Epoch 12/100\n",
      "1705/1705 [==============================] - 4s 2ms/step - loss: 1.1326 - accuracy: 0.7095\n",
      "Epoch 13/100\n",
      "1705/1705 [==============================] - 4s 2ms/step - loss: 1.1304 - accuracy: 0.7095\n",
      "Epoch 14/100\n",
      "1705/1705 [==============================] - 3s 2ms/step - loss: 1.1306 - accuracy: 0.7096\n",
      "Epoch 15/100\n",
      "1705/1705 [==============================] - 3s 2ms/step - loss: 1.1280 - accuracy: 0.7096\n",
      "Epoch 16/100\n",
      "1705/1705 [==============================] - 3s 2ms/step - loss: 1.1271 - accuracy: 0.7095\n",
      "Epoch 17/100\n",
      "1705/1705 [==============================] - 3s 2ms/step - loss: 1.1275 - accuracy: 0.7096\n",
      "Epoch 18/100\n",
      "1705/1705 [==============================] - 3s 2ms/step - loss: 1.1263 - accuracy: 0.7096\n",
      "Epoch 19/100\n",
      "1705/1705 [==============================] - 4s 2ms/step - loss: 1.1248 - accuracy: 0.7097\n",
      "Epoch 20/100\n",
      "1705/1705 [==============================] - 4s 2ms/step - loss: 1.1242 - accuracy: 0.7096\n",
      "Epoch 21/100\n",
      "1705/1705 [==============================] - 4s 2ms/step - loss: 1.1235 - accuracy: 0.7097\n",
      "Epoch 22/100\n",
      "1705/1705 [==============================] - 4s 2ms/step - loss: 1.1229 - accuracy: 0.7097\n",
      "Epoch 23/100\n",
      "1705/1705 [==============================] - 4s 2ms/step - loss: 1.1214 - accuracy: 0.7098\n",
      "Epoch 24/100\n",
      "1705/1705 [==============================] - 4s 2ms/step - loss: 1.1213 - accuracy: 0.7098\n",
      "Epoch 25/100\n",
      "1705/1705 [==============================] - 4s 2ms/step - loss: 1.1210 - accuracy: 0.7098\n",
      "Epoch 26/100\n",
      "1705/1705 [==============================] - 4s 2ms/step - loss: 1.1202 - accuracy: 0.7098\n",
      "Epoch 27/100\n",
      "1705/1705 [==============================] - 4s 2ms/step - loss: 1.1194 - accuracy: 0.7099\n",
      "Epoch 28/100\n",
      "1705/1705 [==============================] - 4s 2ms/step - loss: 1.1191 - accuracy: 0.7098\n",
      "Epoch 29/100\n",
      "1705/1705 [==============================] - 4s 2ms/step - loss: 1.1193 - accuracy: 0.7098\n",
      "Epoch 30/100\n",
      "1705/1705 [==============================] - 4s 2ms/step - loss: 1.1177 - accuracy: 0.7098\n",
      "Epoch 31/100\n",
      "1705/1705 [==============================] - 4s 2ms/step - loss: 1.1169 - accuracy: 0.7100\n",
      "Epoch 32/100\n",
      "1705/1705 [==============================] - 4s 2ms/step - loss: 1.1161 - accuracy: 0.7101\n",
      "Epoch 33/100\n",
      "1705/1705 [==============================] - 4s 2ms/step - loss: 1.1157 - accuracy: 0.7097\n",
      "Epoch 34/100\n",
      "1705/1705 [==============================] - 4s 2ms/step - loss: 1.1147 - accuracy: 0.7102\n",
      "Epoch 35/100\n",
      "1705/1705 [==============================] - 4s 2ms/step - loss: 1.1134 - accuracy: 0.7100\n",
      "Epoch 36/100\n",
      "1705/1705 [==============================] - 4s 2ms/step - loss: 1.1137 - accuracy: 0.7102\n",
      "Epoch 37/100\n",
      "1705/1705 [==============================] - 4s 2ms/step - loss: 1.1133 - accuracy: 0.7103\n",
      "Epoch 38/100\n",
      "1705/1705 [==============================] - 4s 2ms/step - loss: 1.1123 - accuracy: 0.7100\n",
      "Epoch 39/100\n",
      "1705/1705 [==============================] - 4s 2ms/step - loss: 1.1117 - accuracy: 0.7103\n",
      "Epoch 40/100\n",
      "1705/1705 [==============================] - 4s 2ms/step - loss: 1.1120 - accuracy: 0.7104\n",
      "Epoch 41/100\n",
      "1705/1705 [==============================] - 4s 2ms/step - loss: 1.1113 - accuracy: 0.7105\n",
      "Epoch 42/100\n",
      "1705/1705 [==============================] - 4s 2ms/step - loss: 1.1104 - accuracy: 0.7104\n",
      "Epoch 43/100\n",
      "1705/1705 [==============================] - 4s 2ms/step - loss: 1.1117 - accuracy: 0.7105\n",
      "Epoch 44/100\n",
      "1705/1705 [==============================] - 4s 2ms/step - loss: 1.1096 - accuracy: 0.7106\n",
      "Epoch 45/100\n",
      "1705/1705 [==============================] - 4s 2ms/step - loss: 1.1088 - accuracy: 0.7106\n",
      "Epoch 46/100\n",
      "1705/1705 [==============================] - 4s 2ms/step - loss: 1.1088 - accuracy: 0.7105\n",
      "Epoch 47/100\n",
      "1705/1705 [==============================] - 4s 2ms/step - loss: 1.1081 - accuracy: 0.7104\n",
      "Epoch 48/100\n",
      "1705/1705 [==============================] - 4s 2ms/step - loss: 1.1081 - accuracy: 0.7105\n",
      "Epoch 49/100\n",
      "1705/1705 [==============================] - 4s 2ms/step - loss: 1.1069 - accuracy: 0.7107\n",
      "Epoch 50/100\n",
      "1705/1705 [==============================] - 4s 2ms/step - loss: 1.1068 - accuracy: 0.7107\n",
      "Epoch 51/100\n",
      "1705/1705 [==============================] - 4s 2ms/step - loss: 1.1061 - accuracy: 0.7109\n",
      "Epoch 52/100\n",
      "1705/1705 [==============================] - 4s 2ms/step - loss: 1.1059 - accuracy: 0.7109\n",
      "Epoch 53/100\n",
      "1705/1705 [==============================] - 4s 2ms/step - loss: 1.1064 - accuracy: 0.7108\n",
      "Epoch 54/100\n",
      "1705/1705 [==============================] - 4s 2ms/step - loss: 1.1054 - accuracy: 0.7112\n",
      "Epoch 55/100\n",
      "1705/1705 [==============================] - 4s 2ms/step - loss: 1.1050 - accuracy: 0.7109\n",
      "Epoch 56/100\n",
      "1705/1705 [==============================] - 4s 2ms/step - loss: 1.1049 - accuracy: 0.7111\n",
      "Epoch 57/100\n",
      "1705/1705 [==============================] - 4s 2ms/step - loss: 1.1057 - accuracy: 0.7112\n",
      "Epoch 58/100\n",
      "1705/1705 [==============================] - 4s 2ms/step - loss: 1.1043 - accuracy: 0.7109\n",
      "Epoch 59/100\n",
      "1705/1705 [==============================] - 4s 2ms/step - loss: 1.1043 - accuracy: 0.7111\n",
      "Epoch 60/100\n",
      "1705/1705 [==============================] - 3s 2ms/step - loss: 1.1043 - accuracy: 0.7114\n",
      "Epoch 61/100\n",
      "1705/1705 [==============================] - 3s 2ms/step - loss: 1.1041 - accuracy: 0.7114\n",
      "Epoch 62/100\n",
      "1705/1705 [==============================] - 3s 2ms/step - loss: 1.1025 - accuracy: 0.7113\n",
      "Epoch 63/100\n",
      "1705/1705 [==============================] - 3s 2ms/step - loss: 1.1021 - accuracy: 0.7114\n",
      "Epoch 64/100\n",
      "1705/1705 [==============================] - 3s 2ms/step - loss: 1.1023 - accuracy: 0.7114\n",
      "Epoch 65/100\n",
      "1705/1705 [==============================] - 3s 2ms/step - loss: 1.1016 - accuracy: 0.7115\n",
      "Epoch 66/100\n",
      "1705/1705 [==============================] - 3s 2ms/step - loss: 1.1023 - accuracy: 0.7115\n",
      "Epoch 67/100\n",
      "1705/1705 [==============================] - 4s 2ms/step - loss: 1.1011 - accuracy: 0.7115\n",
      "Epoch 68/100\n",
      "1705/1705 [==============================] - 3s 2ms/step - loss: 1.1014 - accuracy: 0.7115\n",
      "Epoch 69/100\n",
      "1705/1705 [==============================] - 3s 2ms/step - loss: 1.1015 - accuracy: 0.7114\n",
      "Epoch 70/100\n",
      "1705/1705 [==============================] - 3s 2ms/step - loss: 1.1007 - accuracy: 0.7115\n",
      "Epoch 71/100\n",
      "1705/1705 [==============================] - 3s 2ms/step - loss: 1.1009 - accuracy: 0.7113\n",
      "Epoch 72/100\n",
      "1705/1705 [==============================] - 3s 2ms/step - loss: 1.0997 - accuracy: 0.7118\n",
      "Epoch 73/100\n",
      "1705/1705 [==============================] - 3s 2ms/step - loss: 1.1001 - accuracy: 0.7117\n",
      "Epoch 74/100\n",
      "1705/1705 [==============================] - 4s 2ms/step - loss: 1.1000 - accuracy: 0.7118\n",
      "Epoch 75/100\n",
      "1705/1705 [==============================] - 4s 2ms/step - loss: 1.0999 - accuracy: 0.7116\n",
      "Epoch 76/100\n",
      "1705/1705 [==============================] - 3s 2ms/step - loss: 1.0995 - accuracy: 0.7119\n",
      "Epoch 77/100\n",
      "1705/1705 [==============================] - 3s 2ms/step - loss: 1.0989 - accuracy: 0.7119\n",
      "Epoch 78/100\n",
      "1705/1705 [==============================] - 3s 2ms/step - loss: 1.0990 - accuracy: 0.7118\n",
      "Epoch 79/100\n"
     ]
    },
    {
     "name": "stdout",
     "output_type": "stream",
     "text": [
      "1705/1705 [==============================] - 4s 2ms/step - loss: 1.0981 - accuracy: 0.7121\n",
      "Epoch 80/100\n",
      "1705/1705 [==============================] - 4s 2ms/step - loss: 1.0986 - accuracy: 0.7118\n",
      "Epoch 81/100\n",
      "1705/1705 [==============================] - 3s 2ms/step - loss: 1.0981 - accuracy: 0.7116\n",
      "Epoch 82/100\n",
      "1705/1705 [==============================] - 3s 2ms/step - loss: 1.0978 - accuracy: 0.7121\n",
      "Epoch 83/100\n",
      "1705/1705 [==============================] - 3s 2ms/step - loss: 1.0980 - accuracy: 0.7120\n",
      "Epoch 84/100\n",
      "1705/1705 [==============================] - 3s 2ms/step - loss: 1.0979 - accuracy: 0.7122\n",
      "Epoch 85/100\n",
      "1705/1705 [==============================] - 3s 2ms/step - loss: 1.0980 - accuracy: 0.7118\n",
      "Epoch 86/100\n",
      "1705/1705 [==============================] - 3s 2ms/step - loss: 1.0966 - accuracy: 0.7121\n",
      "Epoch 87/100\n",
      "1705/1705 [==============================] - 3s 2ms/step - loss: 1.0969 - accuracy: 0.7122\n",
      "Epoch 88/100\n",
      "1705/1705 [==============================] - 3s 2ms/step - loss: 1.0968 - accuracy: 0.7120\n",
      "Epoch 89/100\n",
      "1705/1705 [==============================] - 3s 2ms/step - loss: 1.0965 - accuracy: 0.7122\n",
      "Epoch 90/100\n",
      "1705/1705 [==============================] - 3s 2ms/step - loss: 1.0965 - accuracy: 0.7123\n",
      "Epoch 91/100\n",
      "1705/1705 [==============================] - 3s 2ms/step - loss: 1.0955 - accuracy: 0.7125\n",
      "Epoch 92/100\n",
      "1705/1705 [==============================] - 3s 2ms/step - loss: 1.0952 - accuracy: 0.7123\n",
      "Epoch 93/100\n",
      "1705/1705 [==============================] - 3s 2ms/step - loss: 1.0953 - accuracy: 0.7124\n",
      "Epoch 94/100\n",
      "1705/1705 [==============================] - 3s 2ms/step - loss: 1.0961 - accuracy: 0.7122\n",
      "Epoch 95/100\n",
      "1705/1705 [==============================] - 3s 2ms/step - loss: 1.0953 - accuracy: 0.7126\n",
      "Epoch 96/100\n",
      "1705/1705 [==============================] - 3s 2ms/step - loss: 1.0946 - accuracy: 0.7123\n",
      "Epoch 97/100\n",
      "1705/1705 [==============================] - 3s 2ms/step - loss: 1.0948 - accuracy: 0.7128\n",
      "Epoch 98/100\n",
      "1705/1705 [==============================] - 3s 2ms/step - loss: 1.0958 - accuracy: 0.7126\n",
      "Epoch 99/100\n",
      "1705/1705 [==============================] - 3s 2ms/step - loss: 1.0940 - accuracy: 0.7122\n",
      "Epoch 100/100\n",
      "1705/1705 [==============================] - 3s 2ms/step - loss: 1.0942 - accuracy: 0.7125\n"
     ]
    },
    {
     "data": {
      "text/plain": [
       "<keras.callbacks.History at 0x7fed9404adf0>"
      ]
     },
     "execution_count": 63,
     "metadata": {},
     "output_type": "execute_result"
    }
   ],
   "source": [
    "# model definition\n",
    "model = ml.Sequential()\n",
    "model.add(l.Dense(128, input_dim=x_train.shape[1], activation='relu'))\n",
    "model.add(l.Dense(11, activation='softmax'))\n",
    "\n",
    "# model_compile\n",
    "model.compile(loss='categorical_crossentropy', optimizer='adam', metrics=['accuracy'])\n",
    "\n",
    "# trin model\n",
    "model.fit(x_train, y_train_nn, epochs=100)"
   ]
  },
  {
   "cell_type": "markdown",
   "id": "c853cb7f",
   "metadata": {},
   "source": [
    "# 5.0 - NN PERFORMANCE"
   ]
  },
  {
   "cell_type": "code",
   "execution_count": 66,
   "id": "c4b34d76",
   "metadata": {
    "ExecuteTime": {
     "end_time": "2022-03-19T19:13:33.572340Z",
     "start_time": "2022-03-19T19:13:33.020265Z"
    }
   },
   "outputs": [],
   "source": [
    "# prediction\n",
    "pred_nn = model.predict(x_test)\n",
    "\n",
    "# invert_prediction\n",
    "yhat_nn = ohe.inverse_transform(pred_nn)\n",
    "\n",
    "# prediction prepare\n",
    "y_test_nn = y_test.to_numpy()\n",
    "yhat_nn = yhat_nn.reshape(1, -1)[0]"
   ]
  },
  {
   "cell_type": "code",
   "execution_count": 76,
   "id": "e74c6706",
   "metadata": {
    "ExecuteTime": {
     "end_time": "2022-03-19T19:19:10.854837Z",
     "start_time": "2022-03-19T19:19:10.098575Z"
    }
   },
   "outputs": [
    {
     "name": "stdout",
     "output_type": "stream",
     "text": [
      "Accuracy: 0.7034103410341034\n"
     ]
    },
    {
     "data": {
      "image/png": "[encoded data removed]",
      "text/plain": [
       "<Figure size 864x864 with 2 Axes>"
      ]
     },
     "metadata": {
      "needs_background": "light"
     },
     "output_type": "display_data"
    }
   ],
   "source": [
    "# Accuracy\n",
    "acc_nn = m.accuracy_score(y_test, yhat_nn)\n",
    "print('Accuracy: {}'.format(acc_nn))\n",
    "\n",
    "# Confusion Matrix\n",
    "mt.plot_confusion_matrix(y_test_nn, yhat_nn, normalize=False, figsize=(12, 12));\n",
    "\n",
    "# Balanced Accuracy\n",
    "\n",
    "# F-Score Balanced\n",
    "\n",
    "# Recall-Precision\n",
    "\n",
    "# ROC\n",
    "\n",
    "# Kappa Metrics\n",
    "\n",
    "# Matthew Metrics"
   ]
  },
  {
   "cell_type": "code",
   "execution_count": null,
   "id": "73bfb776",
   "metadata": {},
   "outputs": [],
   "source": []
  }
 ],
 "metadata": {
  "hide_input": false,
  "kernelspec": {
   "display_name": "Python 3 (ipykernel)",
   "language": "python",
   "name": "python3"
  },
  "language_info": {
   "codemirror_mode": {
    "name": "ipython",
    "version": 3
   },
   "file_extension": ".py",
   "mimetype": "text/x-python",
   "name": "python",
   "nbconvert_exporter": "python",
   "pygments_lexer": "ipython3",
   "version": "3.8.10"
  },
  "varInspector": {
   "cols": {
    "lenName": 16,
    "lenType": 16,
    "lenVar": 40
   },
   "kernels_config": {
    "python": {
     "delete_cmd_postfix": "",
     "delete_cmd_prefix": "del ",
     "library": "var_list.py",
     "varRefreshCmd": "print(var_dic_list())"
    },
    "r": {
     "delete_cmd_postfix": ") ",
     "delete_cmd_prefix": "rm(",
     "library": "var_list.r",
     "varRefreshCmd": "cat(var_dic_list()) "
    }
   },
   "types_to_exclude": [
    "module",
    "function",
    "builtin_function_or_method",
    "instance",
    "_Feature"
   ],
   "window_display": false
  }
 },
 "nbformat": 4,
 "nbformat_minor": 5
}
