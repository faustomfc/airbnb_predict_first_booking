{
 "cells": [
  {
   "cell_type": "markdown",
   "id": "8673b99c",
   "metadata": {},
   "source": [
    "# Ciclo01: End to End"
   ]
  },
  {
   "cell_type": "markdown",
   "id": "de563015",
   "metadata": {},
   "source": [
    "# 0.0 - IMPORTS "
   ]
  },
  {
   "cell_type": "code",
   "execution_count": 1,
   "id": "c6973b99",
   "metadata": {
    "ExecuteTime": {
     "end_time": "2022-03-30T01:23:38.675889Z",
     "start_time": "2022-03-30T01:23:30.056497Z"
    }
   },
   "outputs": [
    {
     "name": "stderr",
     "output_type": "stream",
     "text": [
      "2022-03-29 22:23:34.607339: W tensorflow/stream_executor/platform/default/dso_loader.cc:64] Could not load dynamic library 'libcudart.so.11.0'; dlerror: libcudart.so.11.0: cannot open shared object file: No such file or directory\n",
      "2022-03-29 22:23:34.607368: I tensorflow/stream_executor/cuda/cudart_stub.cc:29] Ignore above cudart dlerror if you do not have a GPU set up on your machine.\n"
     ]
    }
   ],
   "source": [
    "import random\n",
    "\n",
    "import pandas     as pd\n",
    "import numpy      as np\n",
    "import seaborn    as sns\n",
    "\n",
    "from sklearn          import  model_selection    as ms\n",
    "from sklearn          import preprocessing       as pp\n",
    "from sklearn          import metrics             as m\n",
    "from scikitplot       import metrics             as mt\n",
    "from scipy            import stats               as ss\n",
    "\n",
    "from keras import models as ml\n",
    "from keras import layers as l"
   ]
  },
  {
   "cell_type": "markdown",
   "id": "59d1f3a0",
   "metadata": {},
   "source": [
    "## 0.1 - Helper functions"
   ]
  },
  {
   "cell_type": "code",
   "execution_count": 2,
   "id": "709c25ad",
   "metadata": {
    "ExecuteTime": {
     "end_time": "2022-03-30T01:23:38.700420Z",
     "start_time": "2022-03-30T01:23:38.694811Z"
    }
   },
   "outputs": [],
   "source": [
    "def cramer_v(x, y):\n",
    "    cm = pd.crosstab(x, y).values\n",
    "    n = cm.sum()\n",
    "    r, k =  cm.shape\n",
    "    \n",
    "    chi2 = ss.chi2_contingency(cm)[0]\n",
    "    chi2corr = max(0, chi2 - (k-1)*(r-1)/(n-1))\n",
    "    \n",
    "    kcorr = k - (k-1)**2/(n-1)\n",
    "    rcorr = r - (r-1)**2/(n-1)\n",
    "    \n",
    "    return np.sqrt((chi2corr/n)/(min(kcorr-1, rcorr-1)))"
   ]
  },
  {
   "cell_type": "markdown",
   "id": "5798c28b",
   "metadata": {},
   "source": [
    "## 0.2 - Loading data"
   ]
  },
  {
   "cell_type": "code",
   "execution_count": 3,
   "id": "fe8e7787",
   "metadata": {
    "ExecuteTime": {
     "end_time": "2022-03-30T01:23:48.393135Z",
     "start_time": "2022-03-30T01:23:38.715129Z"
    }
   },
   "outputs": [],
   "source": [
    "df_raw = pd.read_csv('dataset/train_users_2.csv', low_memory=True)\n",
    "df_sessions = pd.read_csv('dataset/sessions.csv', low_memory=True)"
   ]
  },
  {
   "cell_type": "markdown",
   "id": "5b6952ba",
   "metadata": {},
   "source": [
    "# 1.0 - DATA DESCRIPTION"
   ]
  },
  {
   "cell_type": "code",
   "execution_count": 4,
   "id": "e939a4bf",
   "metadata": {
    "ExecuteTime": {
     "end_time": "2022-03-30T01:23:48.485837Z",
     "start_time": "2022-03-30T01:23:48.459226Z"
    }
   },
   "outputs": [],
   "source": [
    "df1 = df_raw.copy()"
   ]
  },
  {
   "cell_type": "markdown",
   "id": "25cf5f90",
   "metadata": {},
   "source": [
    "## 1.1 - Data dimensions"
   ]
  },
  {
   "cell_type": "code",
   "execution_count": 5,
   "id": "5015e8b4",
   "metadata": {
    "ExecuteTime": {
     "end_time": "2022-03-30T01:23:48.558782Z",
     "start_time": "2022-03-30T01:23:48.554948Z"
    }
   },
   "outputs": [
    {
     "name": "stdout",
     "output_type": "stream",
     "text": [
      "Number of rows: 213451\n",
      "Number of columns: 16\n"
     ]
    }
   ],
   "source": [
    "print('Number of rows: {}'.format(df1.shape[0]))\n",
    "print('Number of columns: {}'.format(df1.shape[1]))"
   ]
  },
  {
   "cell_type": "code",
   "execution_count": 6,
   "id": "6c99ff5f",
   "metadata": {
    "ExecuteTime": {
     "end_time": "2022-03-30T01:23:48.638017Z",
     "start_time": "2022-03-30T01:23:48.633060Z"
    }
   },
   "outputs": [
    {
     "name": "stdout",
     "output_type": "stream",
     "text": [
      "Number of rows: 10567737\n",
      "Number of columns: 6\n"
     ]
    }
   ],
   "source": [
    "print('Number of rows: {}'.format(df_sessions.shape[0]))\n",
    "print('Number of columns: {}'.format(df_sessions.shape[1]))"
   ]
  },
  {
   "cell_type": "markdown",
   "id": "22e90b89",
   "metadata": {},
   "source": [
    "## 1.2 - Data type"
   ]
  },
  {
   "cell_type": "code",
   "execution_count": 7,
   "id": "81f2bd44",
   "metadata": {
    "ExecuteTime": {
     "end_time": "2022-03-30T01:23:48.728419Z",
     "start_time": "2022-03-30T01:23:48.718997Z"
    }
   },
   "outputs": [
    {
     "data": {
      "text/plain": [
       "id                          object\n",
       "date_account_created        object\n",
       "timestamp_first_active       int64\n",
       "date_first_booking          object\n",
       "gender                      object\n",
       "age                        float64\n",
       "signup_method               object\n",
       "signup_flow                  int64\n",
       "language                    object\n",
       "affiliate_channel           object\n",
       "affiliate_provider          object\n",
       "first_affiliate_tracked     object\n",
       "signup_app                  object\n",
       "first_device_type           object\n",
       "first_browser               object\n",
       "country_destination         object\n",
       "dtype: object"
      ]
     },
     "execution_count": 7,
     "metadata": {},
     "output_type": "execute_result"
    }
   ],
   "source": [
    "df1.dtypes"
   ]
  },
  {
   "cell_type": "markdown",
   "id": "01aeecc6",
   "metadata": {},
   "source": [
    "## 1.3 - NA check"
   ]
  },
  {
   "cell_type": "code",
   "execution_count": 8,
   "id": "360be205",
   "metadata": {
    "ExecuteTime": {
     "end_time": "2022-03-30T01:23:49.237258Z",
     "start_time": "2022-03-30T01:23:48.820655Z"
    }
   },
   "outputs": [
    {
     "data": {
      "text/plain": [
       "id                              0\n",
       "date_account_created            0\n",
       "timestamp_first_active          0\n",
       "date_first_booking         124543\n",
       "gender                          0\n",
       "age                         87990\n",
       "signup_method                   0\n",
       "signup_flow                     0\n",
       "language                        0\n",
       "affiliate_channel               0\n",
       "affiliate_provider              0\n",
       "first_affiliate_tracked      6065\n",
       "signup_app                      0\n",
       "first_device_type               0\n",
       "first_browser                   0\n",
       "country_destination             0\n",
       "dtype: int64"
      ]
     },
     "execution_count": 8,
     "metadata": {},
     "output_type": "execute_result"
    }
   ],
   "source": [
    "df1.isna().sum()"
   ]
  },
  {
   "cell_type": "code",
   "execution_count": 9,
   "id": "e4031c83",
   "metadata": {
    "ExecuteTime": {
     "end_time": "2022-03-30T01:23:54.836073Z",
     "start_time": "2022-03-30T01:23:49.307450Z"
    }
   },
   "outputs": [],
   "source": [
    "# ======================== USER =======================#\n",
    "# date_first_booking\n",
    "date_first_booking_max = pd.to_datetime(df1['date_first_booking']).max().strftime('%Y-%m-%d')\n",
    "df1['date_first_booking'] = df1['date_first_booking'].fillna(date_first_booking_max)\n",
    "\n",
    "# age\n",
    "df1 = df1[(df1['age']>15) & (df1['age']<120)]\n",
    "avg_age = df1['age'].mean().astype(int)\n",
    "df1['age'] = df1['age'].fillna(avg_age)\n",
    "\n",
    "# first_affiliate_tracked\n",
    "df1 = df1[~df1['first_affiliate_tracked'].isna()]\n",
    "\n",
    "# ======================== SESSION =======================#\n",
    "# user_id\n",
    "df_sessions = df_sessions[~df_sessions['user_id'].isna()]\n",
    "\n",
    "# action\n",
    "df_sessions = df_sessions[~df_sessions['action'].isna()]\n",
    "\n",
    "# action_type\n",
    "df_sessions = df_sessions[~df_sessions['action_type'].isna()]\n",
    "\n",
    "# action_detail\n",
    "df_sessions = df_sessions[~df_sessions['action_detail'].isna()]\n",
    "\n",
    "# secs_elapsed\n",
    "df_sessions = df_sessions[~df_sessions['secs_elapsed'].isna()]"
   ]
  },
  {
   "cell_type": "markdown",
   "id": "1b45476b",
   "metadata": {},
   "source": [
    "## 1.4 - Change dtypes"
   ]
  },
  {
   "cell_type": "code",
   "execution_count": 10,
   "id": "f874bf6f",
   "metadata": {
    "ExecuteTime": {
     "end_time": "2022-03-30T01:23:55.666679Z",
     "start_time": "2022-03-30T01:23:54.914198Z"
    }
   },
   "outputs": [],
   "source": [
    "# date_account_created\n",
    "df1['date_account_created'] = pd.to_datetime(df1['date_account_created'])\n",
    "\n",
    "# timestamp_first_active\n",
    "df1['timestamp_first_active'] = pd.to_datetime(df1['timestamp_first_active'], format='%Y%m%d%H%M%S')\n",
    "\n",
    "#date_first_booking\n",
    "df1['date_first_booking'] = pd.to_datetime(df1['date_first_booking'])\n",
    "\n",
    "# age\n",
    "df1['age'] = df1['age'].astype(int)"
   ]
  },
  {
   "cell_type": "markdown",
   "id": "829d31ac",
   "metadata": {},
   "source": [
    "## 1.5 - Check balanced data"
   ]
  },
  {
   "cell_type": "code",
   "execution_count": 11,
   "id": "c5cfa969",
   "metadata": {
    "ExecuteTime": {
     "end_time": "2022-03-30T01:23:55.760573Z",
     "start_time": "2022-03-30T01:23:55.740638Z"
    }
   },
   "outputs": [
    {
     "data": {
      "text/plain": [
       "NDF      0.447275\n",
       "US       0.391867\n",
       "other    0.061246\n",
       "FR       0.029918\n",
       "IT       0.016423\n",
       "GB       0.014335\n",
       "ES       0.013740\n",
       "CA       0.008676\n",
       "DE       0.006858\n",
       "NL       0.004852\n",
       "AU       0.003531\n",
       "PT       0.001280\n",
       "Name: country_destination, dtype: float64"
      ]
     },
     "execution_count": 11,
     "metadata": {},
     "output_type": "execute_result"
    }
   ],
   "source": [
    "df1['country_destination'].value_counts(normalize=True)"
   ]
  },
  {
   "cell_type": "markdown",
   "id": "b31fa922",
   "metadata": {},
   "source": [
    "## 1.6 Descriptive analysis"
   ]
  },
  {
   "cell_type": "code",
   "execution_count": 12,
   "id": "7e561f7f",
   "metadata": {
    "ExecuteTime": {
     "end_time": "2022-03-30T01:23:55.842483Z",
     "start_time": "2022-03-30T01:23:55.835028Z"
    }
   },
   "outputs": [],
   "source": [
    "# Users\n",
    "num_attributes = df1.select_dtypes(include=['int64', 'float64'])\n",
    "cat_attributes = df1.select_dtypes(exclude=['int64', 'float64', 'datetime64[ns]'])\n",
    "time_attributes = df1.select_dtypes(include=['datetime64[ns]'])\n",
    "\n",
    "# Sessions\n",
    "num_attributes_sessions = df_sessions.select_dtypes(include=['int64', 'float64'])\n",
    "cat_attributes_sessions = df_sessions.select_dtypes(exclude=['int64', 'float64', 'datetime64[ns]'])\n",
    "time_attributes_sessions = df_sessions.select_dtypes(include=['datetime64[ns]'])"
   ]
  },
  {
   "cell_type": "markdown",
   "id": "642b643a",
   "metadata": {},
   "source": [
    "### 1.6.1 - Numerical - Users"
   ]
  },
  {
   "cell_type": "code",
   "execution_count": 13,
   "id": "33336f0c",
   "metadata": {
    "ExecuteTime": {
     "end_time": "2022-03-30T01:23:56.596696Z",
     "start_time": "2022-03-30T01:23:56.488120Z"
    }
   },
   "outputs": [
    {
     "data": {
      "text/html": [
       "<div>\n",
       "<style scoped>\n",
       "    .dataframe tbody tr th:only-of-type {\n",
       "        vertical-align: middle;\n",
       "    }\n",
       "\n",
       "    .dataframe tbody tr th {\n",
       "        vertical-align: top;\n",
       "    }\n",
       "\n",
       "    .dataframe thead th {\n",
       "        text-align: right;\n",
       "    }\n",
       "</style>\n",
       "<table border=\"1\" class=\"dataframe\">\n",
       "  <thead>\n",
       "    <tr style=\"text-align: right;\">\n",
       "      <th></th>\n",
       "      <th>attributes</th>\n",
       "      <th>min</th>\n",
       "      <th>max</th>\n",
       "      <th>range</th>\n",
       "      <th>mean</th>\n",
       "      <th>median</th>\n",
       "      <th>std</th>\n",
       "      <th>skew</th>\n",
       "      <th>kurtosis</th>\n",
       "    </tr>\n",
       "  </thead>\n",
       "  <tbody>\n",
       "    <tr>\n",
       "      <th>0</th>\n",
       "      <td>age</td>\n",
       "      <td>16.0</td>\n",
       "      <td>115.0</td>\n",
       "      <td>99.0</td>\n",
       "      <td>37.405591</td>\n",
       "      <td>34.0</td>\n",
       "      <td>13.939844</td>\n",
       "      <td>2.089718</td>\n",
       "      <td>6.516468</td>\n",
       "    </tr>\n",
       "    <tr>\n",
       "      <th>1</th>\n",
       "      <td>signup_flow</td>\n",
       "      <td>0.0</td>\n",
       "      <td>25.0</td>\n",
       "      <td>25.0</td>\n",
       "      <td>2.519513</td>\n",
       "      <td>0.0</td>\n",
       "      <td>6.604696</td>\n",
       "      <td>2.705871</td>\n",
       "      <td>5.928298</td>\n",
       "    </tr>\n",
       "  </tbody>\n",
       "</table>\n",
       "</div>"
      ],
      "text/plain": [
       "    attributes   min    max  range       mean  median        std      skew  \\\n",
       "0          age  16.0  115.0   99.0  37.405591    34.0  13.939844  2.089718   \n",
       "1  signup_flow   0.0   25.0   25.0   2.519513     0.0   6.604696  2.705871   \n",
       "\n",
       "   kurtosis  \n",
       "0  6.516468  \n",
       "1  5.928298  "
      ]
     },
     "execution_count": 13,
     "metadata": {},
     "output_type": "execute_result"
    }
   ],
   "source": [
    "# Central Tendecy - Mean and Median\n",
    "ct1 = pd.DataFrame(num_attributes.apply(np.mean)).T\n",
    "ct2 = pd.DataFrame(num_attributes.apply(np.median)).T\n",
    "\n",
    "# Dispersions - Std, min, max, range, skew and kurtosis\n",
    "d1 = pd.DataFrame(num_attributes.apply(np.std)).T\n",
    "d2 = pd.DataFrame(num_attributes.apply(min)).T\n",
    "d3 = pd.DataFrame(num_attributes.apply(max)).T\n",
    "d4 = pd.DataFrame(num_attributes.apply(lambda x: x.max() - x.min())).T\n",
    "d5 = pd.DataFrame(num_attributes.apply(lambda x: x.skew())).T\n",
    "d6 = pd.DataFrame(num_attributes.apply(lambda x: x.kurtosis())).T\n",
    "                                       \n",
    "# Concat\n",
    "ct = pd.concat([d2, d3, d4, ct1, ct2, d1, d5, d6]).T.reset_index()\n",
    "ct.columns = ['attributes', 'min', 'max', 'range', 'mean', 'median', 'std', 'skew', 'kurtosis']\n",
    "ct"
   ]
  },
  {
   "cell_type": "markdown",
   "id": "ebfea32c",
   "metadata": {},
   "source": [
    "### 1.6.2 - Numerical - Sessions"
   ]
  },
  {
   "cell_type": "code",
   "execution_count": 14,
   "id": "8eb51fc3",
   "metadata": {
    "ExecuteTime": {
     "end_time": "2022-03-30T01:23:59.205091Z",
     "start_time": "2022-03-30T01:23:56.895043Z"
    }
   },
   "outputs": [
    {
     "data": {
      "text/html": [
       "<div>\n",
       "<style scoped>\n",
       "    .dataframe tbody tr th:only-of-type {\n",
       "        vertical-align: middle;\n",
       "    }\n",
       "\n",
       "    .dataframe tbody tr th {\n",
       "        vertical-align: top;\n",
       "    }\n",
       "\n",
       "    .dataframe thead th {\n",
       "        text-align: right;\n",
       "    }\n",
       "</style>\n",
       "<table border=\"1\" class=\"dataframe\">\n",
       "  <thead>\n",
       "    <tr style=\"text-align: right;\">\n",
       "      <th></th>\n",
       "      <th>attributes_sessions</th>\n",
       "      <th>min</th>\n",
       "      <th>max</th>\n",
       "      <th>range</th>\n",
       "      <th>mean</th>\n",
       "      <th>median</th>\n",
       "      <th>std</th>\n",
       "      <th>skew</th>\n",
       "      <th>kurtosis</th>\n",
       "    </tr>\n",
       "  </thead>\n",
       "  <tbody>\n",
       "    <tr>\n",
       "      <th>0</th>\n",
       "      <td>secs_elapsed</td>\n",
       "      <td>0.0</td>\n",
       "      <td>1799977.0</td>\n",
       "      <td>1799977.0</td>\n",
       "      <td>19961.8251</td>\n",
       "      <td>1369.0</td>\n",
       "      <td>88849.388449</td>\n",
       "      <td>11.137761</td>\n",
       "      <td>154.84312</td>\n",
       "    </tr>\n",
       "  </tbody>\n",
       "</table>\n",
       "</div>"
      ],
      "text/plain": [
       "  attributes_sessions  min        max      range        mean  median  \\\n",
       "0        secs_elapsed  0.0  1799977.0  1799977.0  19961.8251  1369.0   \n",
       "\n",
       "            std       skew   kurtosis  \n",
       "0  88849.388449  11.137761  154.84312  "
      ]
     },
     "execution_count": 14,
     "metadata": {},
     "output_type": "execute_result"
    }
   ],
   "source": [
    "# Central Tendecy - Mean and Median\n",
    "ct1 = pd.DataFrame(num_attributes_sessions.apply(np.mean)).T\n",
    "ct2 = pd.DataFrame(num_attributes_sessions.apply(np.median)).T\n",
    "\n",
    "# Dispersions - Std, min, max, range, skew and kurtosis\n",
    "d1 = pd.DataFrame(num_attributes_sessions.apply(np.std)).T\n",
    "d2 = pd.DataFrame(num_attributes_sessions.apply(min)).T\n",
    "d3 = pd.DataFrame(num_attributes_sessions.apply(max)).T\n",
    "d4 = pd.DataFrame(num_attributes_sessions.apply(lambda x: x.max() - x.min())).T\n",
    "d5 = pd.DataFrame(num_attributes_sessions.apply(lambda x: x.skew())).T\n",
    "d6 = pd.DataFrame(num_attributes_sessions.apply(lambda x: x.kurtosis())).T\n",
    "                                       \n",
    "# Concat\n",
    "ct = pd.concat([d2, d3, d4, ct1, ct2, d1, d5, d6]).T.reset_index()\n",
    "ct.columns = ['attributes_sessions', 'min', 'max', 'range', 'mean', 'median', 'std', 'skew', 'kurtosis']\n",
    "ct"
   ]
  },
  {
   "cell_type": "markdown",
   "id": "9b33783b",
   "metadata": {},
   "source": [
    "### 1.6.3 - Categorical - Users"
   ]
  },
  {
   "cell_type": "code",
   "execution_count": 15,
   "id": "ffc84cd7",
   "metadata": {
    "ExecuteTime": {
     "end_time": "2022-03-30T01:23:59.687396Z",
     "start_time": "2022-03-30T01:23:59.485945Z"
    }
   },
   "outputs": [
    {
     "data": {
      "text/html": [
       "<div>\n",
       "<style scoped>\n",
       "    .dataframe tbody tr th:only-of-type {\n",
       "        vertical-align: middle;\n",
       "    }\n",
       "\n",
       "    .dataframe tbody tr th {\n",
       "        vertical-align: top;\n",
       "    }\n",
       "\n",
       "    .dataframe thead th {\n",
       "        text-align: right;\n",
       "    }\n",
       "</style>\n",
       "<table border=\"1\" class=\"dataframe\">\n",
       "  <thead>\n",
       "    <tr style=\"text-align: right;\">\n",
       "      <th></th>\n",
       "      <th>gender</th>\n",
       "      <th>signup_method</th>\n",
       "      <th>language</th>\n",
       "      <th>affiliate_channel</th>\n",
       "      <th>affiliate_provider</th>\n",
       "      <th>first_affiliate_tracked</th>\n",
       "      <th>signup_app</th>\n",
       "      <th>first_device_type</th>\n",
       "      <th>first_browser</th>\n",
       "      <th>country_destination</th>\n",
       "    </tr>\n",
       "  </thead>\n",
       "  <tbody>\n",
       "    <tr>\n",
       "      <th>count</th>\n",
       "      <td>122636</td>\n",
       "      <td>122636</td>\n",
       "      <td>122636</td>\n",
       "      <td>122636</td>\n",
       "      <td>122636</td>\n",
       "      <td>122636</td>\n",
       "      <td>122636</td>\n",
       "      <td>122636</td>\n",
       "      <td>122636</td>\n",
       "      <td>122636</td>\n",
       "    </tr>\n",
       "    <tr>\n",
       "      <th>unique</th>\n",
       "      <td>4</td>\n",
       "      <td>3</td>\n",
       "      <td>25</td>\n",
       "      <td>8</td>\n",
       "      <td>17</td>\n",
       "      <td>7</td>\n",
       "      <td>4</td>\n",
       "      <td>9</td>\n",
       "      <td>41</td>\n",
       "      <td>12</td>\n",
       "    </tr>\n",
       "    <tr>\n",
       "      <th>top</th>\n",
       "      <td>FEMALE</td>\n",
       "      <td>basic</td>\n",
       "      <td>en</td>\n",
       "      <td>direct</td>\n",
       "      <td>direct</td>\n",
       "      <td>untracked</td>\n",
       "      <td>Web</td>\n",
       "      <td>Mac Desktop</td>\n",
       "      <td>Chrome</td>\n",
       "      <td>NDF</td>\n",
       "    </tr>\n",
       "    <tr>\n",
       "      <th>freq</th>\n",
       "      <td>56362</td>\n",
       "      <td>66039</td>\n",
       "      <td>118205</td>\n",
       "      <td>79093</td>\n",
       "      <td>78954</td>\n",
       "      <td>64712</td>\n",
       "      <td>108283</td>\n",
       "      <td>57943</td>\n",
       "      <td>41778</td>\n",
       "      <td>54852</td>\n",
       "    </tr>\n",
       "  </tbody>\n",
       "</table>\n",
       "</div>"
      ],
      "text/plain": [
       "        gender signup_method language affiliate_channel affiliate_provider  \\\n",
       "count   122636        122636   122636            122636             122636   \n",
       "unique       4             3       25                 8                 17   \n",
       "top     FEMALE         basic       en            direct             direct   \n",
       "freq     56362         66039   118205             79093              78954   \n",
       "\n",
       "       first_affiliate_tracked signup_app first_device_type first_browser  \\\n",
       "count                   122636     122636            122636        122636   \n",
       "unique                       7          4                 9            41   \n",
       "top                  untracked        Web       Mac Desktop        Chrome   \n",
       "freq                     64712     108283             57943         41778   \n",
       "\n",
       "       country_destination  \n",
       "count               122636  \n",
       "unique                  12  \n",
       "top                    NDF  \n",
       "freq                 54852  "
      ]
     },
     "execution_count": 15,
     "metadata": {},
     "output_type": "execute_result"
    }
   ],
   "source": [
    "cat_attributes.drop('id', axis=1).describe()"
   ]
  },
  {
   "cell_type": "markdown",
   "id": "8562140a",
   "metadata": {},
   "source": [
    "### 1.6.4 - Categorial - Sessions"
   ]
  },
  {
   "cell_type": "code",
   "execution_count": 16,
   "id": "d558ea66",
   "metadata": {
    "ExecuteTime": {
     "end_time": "2022-03-30T01:24:04.692623Z",
     "start_time": "2022-03-30T01:23:59.966341Z"
    },
    "scrolled": true
   },
   "outputs": [
    {
     "data": {
      "text/html": [
       "<div>\n",
       "<style scoped>\n",
       "    .dataframe tbody tr th:only-of-type {\n",
       "        vertical-align: middle;\n",
       "    }\n",
       "\n",
       "    .dataframe tbody tr th {\n",
       "        vertical-align: top;\n",
       "    }\n",
       "\n",
       "    .dataframe thead th {\n",
       "        text-align: right;\n",
       "    }\n",
       "</style>\n",
       "<table border=\"1\" class=\"dataframe\">\n",
       "  <thead>\n",
       "    <tr style=\"text-align: right;\">\n",
       "      <th></th>\n",
       "      <th>action</th>\n",
       "      <th>action_type</th>\n",
       "      <th>action_detail</th>\n",
       "      <th>device_type</th>\n",
       "    </tr>\n",
       "  </thead>\n",
       "  <tbody>\n",
       "    <tr>\n",
       "      <th>count</th>\n",
       "      <td>9213930</td>\n",
       "      <td>9213930</td>\n",
       "      <td>9213930</td>\n",
       "      <td>9213930</td>\n",
       "    </tr>\n",
       "    <tr>\n",
       "      <th>unique</th>\n",
       "      <td>347</td>\n",
       "      <td>10</td>\n",
       "      <td>155</td>\n",
       "      <td>14</td>\n",
       "    </tr>\n",
       "    <tr>\n",
       "      <th>top</th>\n",
       "      <td>show</td>\n",
       "      <td>view</td>\n",
       "      <td>view_search_results</td>\n",
       "      <td>Mac Desktop</td>\n",
       "    </tr>\n",
       "    <tr>\n",
       "      <th>freq</th>\n",
       "      <td>2178382</td>\n",
       "      <td>3545621</td>\n",
       "      <td>1770931</td>\n",
       "      <td>3019523</td>\n",
       "    </tr>\n",
       "  </tbody>\n",
       "</table>\n",
       "</div>"
      ],
      "text/plain": [
       "         action action_type        action_detail  device_type\n",
       "count   9213930     9213930              9213930      9213930\n",
       "unique      347          10                  155           14\n",
       "top        show        view  view_search_results  Mac Desktop\n",
       "freq    2178382     3545621              1770931      3019523"
      ]
     },
     "execution_count": 16,
     "metadata": {},
     "output_type": "execute_result"
    }
   ],
   "source": [
    "cat_attributes_sessions.drop('user_id', axis=1).describe()"
   ]
  },
  {
   "cell_type": "code",
   "execution_count": 17,
   "id": "1257d2ad",
   "metadata": {
    "ExecuteTime": {
     "end_time": "2022-03-30T01:24:42.395307Z",
     "start_time": "2022-03-30T01:24:04.985311Z"
    }
   },
   "outputs": [],
   "source": [
    "# List of attributes for Cramer's V correlation\n",
    "cat_attributes_list = cat_attributes_sessions.drop('user_id', axis=1).columns.tolist()\n",
    "\n",
    "corr_dict = {}\n",
    "for i in range(len(cat_attributes_list)):\n",
    "    corr_list = []\n",
    "    for j in range(len(cat_attributes_list)):\n",
    "        ref =  cat_attributes_list[i]\n",
    "        feat = cat_attributes_list[j]\n",
    "        \n",
    "        # correlation\n",
    "        corr = cramer_v(cat_attributes_sessions[ref], cat_attributes_sessions[feat])\n",
    "        \n",
    "        # append a list\n",
    "        corr_list.append(corr)\n",
    "    # append list\n",
    "    corr_dict[ref] = corr_list"
   ]
  },
  {
   "cell_type": "code",
   "execution_count": 18,
   "id": "8c3b95e7",
   "metadata": {
    "ExecuteTime": {
     "end_time": "2022-03-30T01:24:43.045041Z",
     "start_time": "2022-03-30T01:24:42.688011Z"
    }
   },
   "outputs": [
    {
     "data": {
      "text/plain": [
       "<AxesSubplot:>"
      ]
     },
     "execution_count": 18,
     "metadata": {},
     "output_type": "execute_result"
    },
    {
     "data": {
      "image/png": "[encoded data removed]",
      "text/plain": [
       "<Figure size 432x288 with 2 Axes>"
      ]
     },
     "metadata": {
      "needs_background": "light"
     },
     "output_type": "display_data"
    }
   ],
   "source": [
    "d = pd.DataFrame(corr_dict)\n",
    "d = d.set_index(d.columns)\n",
    "sns.heatmap(d, annot=True)"
   ]
  },
  {
   "cell_type": "markdown",
   "id": "32083b91",
   "metadata": {},
   "source": [
    "# 2.0 - FEATURE ENGINEERING"
   ]
  },
  {
   "cell_type": "code",
   "execution_count": 19,
   "id": "ef3603c8",
   "metadata": {
    "ExecuteTime": {
     "end_time": "2022-03-30T01:24:43.364754Z",
     "start_time": "2022-03-30T01:24:43.347293Z"
    }
   },
   "outputs": [],
   "source": [
    "df2 = df1.copy()"
   ]
  },
  {
   "cell_type": "markdown",
   "id": "effca641",
   "metadata": {},
   "source": [
    "## 2.1 - Create new features"
   ]
  },
  {
   "cell_type": "code",
   "execution_count": 20,
   "id": "350e5e1f",
   "metadata": {
    "ExecuteTime": {
     "end_time": "2022-03-30T01:24:52.005592Z",
     "start_time": "2022-03-30T01:24:43.696629Z"
    }
   },
   "outputs": [],
   "source": [
    "# days from first active up to first booking\n",
    "df2['first_active'] = pd.to_datetime(df2['timestamp_first_active'].dt.strftime('%Y-%m-%d'))\n",
    "df2['days_from_first_active_until_booking'] = (df2['date_first_booking'] - df2['first_active']).apply(lambda x: x.days)\n",
    "\n",
    "# days from first active upt to account created\n",
    "df2['days_from_first_active_until_account_created'] = (df2['date_account_created'] - df2['first_active']).apply(lambda x: x.days)\n",
    "\n",
    "# days from account created up to first booking\n",
    "df2['days_from_account_created_until_first_booking'] = (df2['date_first_booking'] - df2['date_account_created']).apply(lambda x: x.days)\n",
    "\n",
    "# ======================== Active ===========================#\n",
    "# year first active\n",
    "df2['year_first_active'] = df2['first_active'].dt.year\n",
    "\n",
    "# month first active\n",
    "df2['month_first_active'] = df2['first_active'].dt.month\n",
    "\n",
    "# day first active\n",
    "df2['day_first_active'] = df2['first_active'].dt.day\n",
    "\n",
    "# day of week first active\n",
    "df2['day_of_week_first_active'] = df2['first_active'].dt.dayofweek\n",
    "\n",
    "# week of year first active\n",
    "df2['week_of_year_first_active'] = df2['first_active'].dt.isocalendar().week.astype(int)\n",
    "\n",
    "# ======================== First Booking ===========================#\n",
    "# year first booking\n",
    "df2['year_date_first_booking'] = df2['date_first_booking'].dt.year\n",
    "\n",
    "# month first booking\n",
    "df2['month_date_first_booking'] = df2['date_first_booking'].dt.month\n",
    "\n",
    "# day first booking\n",
    "df2['day_date_first_booking'] = df2['date_first_booking'].dt.day\n",
    "\n",
    "# day of week first booking\n",
    "df2['day_of_year_date_first_booking'] = df2['date_first_booking'].dt.dayofweek\n",
    "\n",
    "# week of year first booking\n",
    "df2['week_of_year_date_first_booking'] = df2['date_first_booking'].dt.isocalendar().week.astype(int)\n",
    "\n",
    "# ======================== Account Created ===========================#\n",
    "# year account_created\n",
    "df2['year_date_account_created'] = df2['date_account_created'].dt.year\n",
    "\n",
    "# month account_created\n",
    "df2['month_date_account_created'] = df2['date_account_created'].dt.month\n",
    "\n",
    "# day account_created\n",
    "df2['day_date_account_created'] = df2['date_account_created'].dt.day\n",
    "\n",
    "# day of week account_created\n",
    "df2['day_of_week_date_account_created'] = df2['date_account_created'].dt.dayofweek\n",
    "\n",
    "# week of year account_created\n",
    "df2['week_of_year_date_account_created'] = df2['date_account_created'].dt.isocalendar().week.astype(int)"
   ]
  },
  {
   "cell_type": "markdown",
   "id": "007642ca",
   "metadata": {},
   "source": [
    "# 3.0 - DATA FILTERING"
   ]
  },
  {
   "cell_type": "code",
   "execution_count": 21,
   "id": "94f57e56",
   "metadata": {
    "ExecuteTime": {
     "end_time": "2022-03-30T01:24:52.418796Z",
     "start_time": "2022-03-30T01:24:52.388857Z"
    }
   },
   "outputs": [],
   "source": [
    "df3 = df2.copy()"
   ]
  },
  {
   "cell_type": "markdown",
   "id": "f0aacd64",
   "metadata": {},
   "source": [
    "## 3.1 - Filtering rows"
   ]
  },
  {
   "cell_type": "code",
   "execution_count": 22,
   "id": "86e5274f",
   "metadata": {
    "ExecuteTime": {
     "end_time": "2022-03-30T01:24:53.427045Z",
     "start_time": "2022-03-30T01:24:52.843638Z"
    }
   },
   "outputs": [],
   "source": [
    "# age - greater than 15 and lower than 120 - There are few people over 120 years old\n",
    "df3 = df3[(df3['age']>15) & df3['age']<120]\n",
    "\n",
    "# secs_elapsed - there is no possible 0 secs elapsed on website\n",
    "df_sessions = df_sessions[df_sessions['secs_elapsed']>0]"
   ]
  },
  {
   "cell_type": "markdown",
   "id": "afb4351e",
   "metadata": {},
   "source": [
    "## 3.2 - Columns selection"
   ]
  },
  {
   "cell_type": "code",
   "execution_count": null,
   "id": "aaf49546",
   "metadata": {},
   "outputs": [],
   "source": []
  },
  {
   "cell_type": "markdown",
   "id": "e5d9a2f9",
   "metadata": {},
   "source": [
    "# 4.0 - DATA PREPARATION"
   ]
  },
  {
   "cell_type": "code",
   "execution_count": 23,
   "id": "195be962",
   "metadata": {
    "ExecuteTime": {
     "end_time": "2022-03-30T01:24:53.884066Z",
     "start_time": "2022-03-30T01:24:53.872354Z"
    }
   },
   "outputs": [],
   "source": [
    "df4 = df3.copy()"
   ]
  },
  {
   "cell_type": "code",
   "execution_count": 24,
   "id": "520546bf",
   "metadata": {
    "ExecuteTime": {
     "end_time": "2022-03-30T01:24:54.633609Z",
     "start_time": "2022-03-30T01:24:54.402539Z"
    }
   },
   "outputs": [],
   "source": [
    "# dummy variable\n",
    "df4_dummy = pd.get_dummies(df4.drop(['id', 'country_destination'], axis=1))\n",
    "\n",
    "# join id and country destination\n",
    "df4 = pd.concat([df4[['id', 'country_destination']], df4_dummy], axis=1)"
   ]
  },
  {
   "cell_type": "markdown",
   "id": "a2053d92",
   "metadata": {},
   "source": [
    "# 5.0 - FEATURE SELECTION"
   ]
  },
  {
   "cell_type": "code",
   "execution_count": 25,
   "id": "bf148b0e",
   "metadata": {
    "ExecuteTime": {
     "end_time": "2022-03-30T01:24:55.257005Z",
     "start_time": "2022-03-30T01:24:55.222224Z"
    }
   },
   "outputs": [],
   "source": [
    "cols_drop = ['date_account_created', 'timestamp_first_active', 'date_first_booking', 'first_active']\n",
    "df5 = df4.drop(cols_drop, axis=1)"
   ]
  },
  {
   "cell_type": "code",
   "execution_count": 26,
   "id": "d57faa84",
   "metadata": {
    "ExecuteTime": {
     "end_time": "2022-03-30T01:24:55.877136Z",
     "start_time": "2022-03-30T01:24:55.846575Z"
    }
   },
   "outputs": [],
   "source": [
    "X = df5.drop(['country_destination'], axis=1)\n",
    "y = df5['country_destination'].copy()"
   ]
  },
  {
   "cell_type": "code",
   "execution_count": 27,
   "id": "be7ff58b",
   "metadata": {
    "ExecuteTime": {
     "end_time": "2022-03-30T01:24:56.605500Z",
     "start_time": "2022-03-30T01:24:56.470431Z"
    }
   },
   "outputs": [],
   "source": [
    "# Split dataset into training and test\n",
    "X_train, X_test, y_train, y_test = ms.train_test_split(X, y, test_size=0.2, random_state=32)"
   ]
  },
  {
   "cell_type": "markdown",
   "id": "e05948c8",
   "metadata": {},
   "source": [
    "# 6.0 MACHINE LEARNING MODEL - NEURAL NETWORK MLP"
   ]
  },
  {
   "cell_type": "code",
   "execution_count": 28,
   "id": "4f187523",
   "metadata": {
    "ExecuteTime": {
     "end_time": "2022-03-30T01:24:57.266010Z",
     "start_time": "2022-03-30T01:24:57.250620Z"
    }
   },
   "outputs": [],
   "source": [
    "x_train = X_train.drop('id', axis=1)\n",
    "x_test = X_test.drop('id', axis=1)"
   ]
  },
  {
   "cell_type": "markdown",
   "id": "83190e99",
   "metadata": {},
   "source": [
    "## 6.1 - Baseline model "
   ]
  },
  {
   "cell_type": "code",
   "execution_count": 29,
   "id": "ebdab330",
   "metadata": {
    "ExecuteTime": {
     "end_time": "2022-03-30T01:24:57.996381Z",
     "start_time": "2022-03-30T01:24:57.965701Z"
    }
   },
   "outputs": [],
   "source": [
    "country_destination_list = df1['country_destination'].drop_duplicates().sort_values().tolist()\n",
    "k_num = y_test.shape[0]\n",
    "country_destination_weights = df1['country_destination'].value_counts(normalize=True).sort_index().to_list()\n",
    "\n",
    "# modelo que chuta\n",
    "yhat_random = random.choices(population=country_destination_list, k=k_num, weights=country_destination_weights)"
   ]
  },
  {
   "cell_type": "markdown",
   "id": "db3eb677",
   "metadata": {},
   "source": [
    "### 6.1.1 - Baseline model performance"
   ]
  },
  {
   "cell_type": "code",
   "execution_count": 30,
   "id": "29ec1743",
   "metadata": {
    "ExecuteTime": {
     "end_time": "2022-03-30T01:25:00.497783Z",
     "start_time": "2022-03-30T01:24:58.687769Z"
    }
   },
   "outputs": [
    {
     "name": "stdout",
     "output_type": "stream",
     "text": [
      "Accuracy: 0.3560828440965427\n",
      "Balanced Accuracy: 0.08176125027853863\n",
      "Kappa Score: -0.0026917012825389275\n",
      "              precision    recall  f1-score   support\n",
      "\n",
      "          AU       0.00      0.00      0.00        87\n",
      "          CA       0.00      0.00      0.00       216\n",
      "          DE       0.00      0.00      0.00       164\n",
      "          ES       0.01      0.01      0.01       319\n",
      "          FR       0.04      0.04      0.04       736\n",
      "          GB       0.02      0.02      0.02       361\n",
      "          IT       0.02      0.02      0.02       420\n",
      "         NDF       0.44      0.44      0.44     10962\n",
      "          NL       0.00      0.00      0.00       105\n",
      "          PT       0.00      0.00      0.00        31\n",
      "          US       0.39      0.39      0.39      9606\n",
      "       other       0.06      0.06      0.06      1521\n",
      "\n",
      "    accuracy                           0.36     24528\n",
      "   macro avg       0.08      0.08      0.08     24528\n",
      "weighted avg       0.36      0.36      0.36     24528\n",
      "\n"
     ]
    },
    {
     "data": {
      "image/png": "[encoded data removed]",
      "text/plain": [
       "<Figure size 864x864 with 2 Axes>"
      ]
     },
     "metadata": {
      "needs_background": "light"
     },
     "output_type": "display_data"
    }
   ],
   "source": [
    "# Accuracy\n",
    "acc_random = m.accuracy_score(y_test, yhat_random)\n",
    "print('Accuracy: {}'.format(acc_random))\n",
    "\n",
    "# Balanced Accuracy\n",
    "balanced_acc_random = m.balanced_accuracy_score(y_test, yhat_random)\n",
    "print('Balanced Accuracy: {}'.format(balanced_acc_random))\n",
    "\n",
    "# Kappa Metrics\n",
    "kappa_random = m.cohen_kappa_score(y_test, yhat_random)\n",
    "print('Kappa Score: {}'.format(kappa_random))\n",
    "\n",
    "# Classification report\n",
    "print(m.classification_report(y_test, yhat_random))\n",
    "\n",
    "# Confusion Matrix\n",
    "mt.plot_confusion_matrix(y_test, yhat_random, normalize=False, figsize=(12, 12));"
   ]
  },
  {
   "cell_type": "markdown",
   "id": "e97a25ba",
   "metadata": {},
   "source": [
    "## 6.2 - Neural network - MLP"
   ]
  },
  {
   "cell_type": "code",
   "execution_count": 31,
   "id": "df849527",
   "metadata": {
    "ExecuteTime": {
     "end_time": "2022-03-30T01:26:36.932186Z",
     "start_time": "2022-03-30T01:26:36.881920Z"
    }
   },
   "outputs": [],
   "source": [
    "ohe = pp.OneHotEncoder()\n",
    "y_train_nn = ohe.fit_transform(y_train.values.reshape(-1,1)).toarray()"
   ]
  },
  {
   "cell_type": "code",
   "execution_count": 32,
   "id": "db8bca93",
   "metadata": {
    "ExecuteTime": {
     "end_time": "2022-03-30T01:39:12.889364Z",
     "start_time": "2022-03-30T01:26:37.678163Z"
    }
   },
   "outputs": [
    {
     "name": "stderr",
     "output_type": "stream",
     "text": [
      "2022-03-29 22:26:37.706573: W tensorflow/stream_executor/platform/default/dso_loader.cc:64] Could not load dynamic library 'libcuda.so.1'; dlerror: libcuda.so.1: cannot open shared object file: No such file or directory\n",
      "2022-03-29 22:26:37.706610: W tensorflow/stream_executor/cuda/cuda_driver.cc:269] failed call to cuInit: UNKNOWN ERROR (303)\n",
      "2022-03-29 22:26:37.706645: I tensorflow/stream_executor/cuda/cuda_diagnostics.cc:156] kernel driver does not appear to be running on this host (fausto-Inspiron-7520): /proc/driver/nvidia/version does not exist\n"
     ]
    },
    {
     "name": "stdout",
     "output_type": "stream",
     "text": [
      "Epoch 1/100\n"
     ]
    },
    {
     "name": "stderr",
     "output_type": "stream",
     "text": [
      "2022-03-29 22:26:37.970946: W tensorflow/core/framework/cpu_allocator_impl.cc:82] Allocation of 108311232 exceeds 10% of free system memory.\n"
     ]
    },
    {
     "name": "stdout",
     "output_type": "stream",
     "text": [
      "3066/3066 [==============================] - 8s 2ms/step - loss: 7.5347 - accuracy: 0.7283\n",
      "Epoch 2/100\n",
      "3066/3066 [==============================] - 7s 2ms/step - loss: 2.8936 - accuracy: 0.7506\n",
      "Epoch 3/100\n",
      "3066/3066 [==============================] - 8s 3ms/step - loss: 1.5586 - accuracy: 0.7734\n",
      "Epoch 4/100\n",
      "3066/3066 [==============================] - 8s 2ms/step - loss: 0.9797 - accuracy: 0.8047\n",
      "Epoch 5/100\n",
      "3066/3066 [==============================] - 8s 2ms/step - loss: 0.7411 - accuracy: 0.8294\n",
      "Epoch 6/100\n",
      "3066/3066 [==============================] - 8s 2ms/step - loss: 0.6772 - accuracy: 0.8362\n",
      "Epoch 7/100\n",
      "3066/3066 [==============================] - 8s 2ms/step - loss: 0.6528 - accuracy: 0.8372\n",
      "Epoch 8/100\n",
      "3066/3066 [==============================] - 8s 2ms/step - loss: 0.6466 - accuracy: 0.8379\n",
      "Epoch 9/100\n",
      "3066/3066 [==============================] - 8s 2ms/step - loss: 0.6433 - accuracy: 0.8383\n",
      "Epoch 10/100\n",
      "3066/3066 [==============================] - 8s 2ms/step - loss: 0.6419 - accuracy: 0.8384\n",
      "Epoch 11/100\n",
      "3066/3066 [==============================] - 8s 2ms/step - loss: 0.6422 - accuracy: 0.8384\n",
      "Epoch 12/100\n",
      "3066/3066 [==============================] - 8s 2ms/step - loss: 0.6405 - accuracy: 0.8387\n",
      "Epoch 13/100\n",
      "3066/3066 [==============================] - 8s 2ms/step - loss: 0.6407 - accuracy: 0.8386\n",
      "Epoch 14/100\n",
      "3066/3066 [==============================] - 8s 2ms/step - loss: 0.6408 - accuracy: 0.8385\n",
      "Epoch 15/100\n",
      "3066/3066 [==============================] - 8s 2ms/step - loss: 0.6392 - accuracy: 0.8388\n",
      "Epoch 16/100\n",
      "3066/3066 [==============================] - 8s 2ms/step - loss: 0.6398 - accuracy: 0.8387\n",
      "Epoch 17/100\n",
      "3066/3066 [==============================] - 8s 2ms/step - loss: 0.6394 - accuracy: 0.8386\n",
      "Epoch 18/100\n",
      "3066/3066 [==============================] - 8s 2ms/step - loss: 0.6392 - accuracy: 0.8388\n",
      "Epoch 19/100\n",
      "3066/3066 [==============================] - 8s 2ms/step - loss: 0.6382 - accuracy: 0.8388\n",
      "Epoch 20/100\n",
      "3066/3066 [==============================] - 8s 2ms/step - loss: 0.6378 - accuracy: 0.8388\n",
      "Epoch 21/100\n",
      "3066/3066 [==============================] - 8s 2ms/step - loss: 0.6382 - accuracy: 0.8387\n",
      "Epoch 22/100\n",
      "3066/3066 [==============================] - 8s 2ms/step - loss: 0.6375 - accuracy: 0.8389\n",
      "Epoch 23/100\n",
      "3066/3066 [==============================] - 8s 2ms/step - loss: 0.6374 - accuracy: 0.8389\n",
      "Epoch 24/100\n",
      "3066/3066 [==============================] - 8s 2ms/step - loss: 0.6373 - accuracy: 0.8388\n",
      "Epoch 25/100\n",
      "3066/3066 [==============================] - 8s 2ms/step - loss: 0.6366 - accuracy: 0.8389\n",
      "Epoch 26/100\n",
      "3066/3066 [==============================] - 8s 2ms/step - loss: 0.6371 - accuracy: 0.8388\n",
      "Epoch 27/100\n",
      "3066/3066 [==============================] - 7s 2ms/step - loss: 0.6357 - accuracy: 0.8389\n",
      "Epoch 28/100\n",
      "3066/3066 [==============================] - 7s 2ms/step - loss: 0.6367 - accuracy: 0.8388\n",
      "Epoch 29/100\n",
      "3066/3066 [==============================] - 7s 2ms/step - loss: 0.6376 - accuracy: 0.8389\n",
      "Epoch 30/100\n",
      "3066/3066 [==============================] - 7s 2ms/step - loss: 0.6351 - accuracy: 0.8390\n",
      "Epoch 31/100\n",
      "3066/3066 [==============================] - 8s 2ms/step - loss: 0.6345 - accuracy: 0.8390\n",
      "Epoch 32/100\n",
      "3066/3066 [==============================] - 8s 2ms/step - loss: 0.6347 - accuracy: 0.8389\n",
      "Epoch 33/100\n",
      "3066/3066 [==============================] - 8s 2ms/step - loss: 0.6343 - accuracy: 0.8390\n",
      "Epoch 34/100\n",
      "3066/3066 [==============================] - 8s 2ms/step - loss: 0.6344 - accuracy: 0.8389\n",
      "Epoch 35/100\n",
      "3066/3066 [==============================] - 8s 2ms/step - loss: 0.6345 - accuracy: 0.8390\n",
      "Epoch 36/100\n",
      "3066/3066 [==============================] - 8s 2ms/step - loss: 0.6342 - accuracy: 0.8389\n",
      "Epoch 37/100\n",
      "3066/3066 [==============================] - 8s 2ms/step - loss: 0.6341 - accuracy: 0.8388\n",
      "Epoch 38/100\n",
      "3066/3066 [==============================] - 8s 2ms/step - loss: 0.6343 - accuracy: 0.8390\n",
      "Epoch 39/100\n",
      "3066/3066 [==============================] - 8s 2ms/step - loss: 0.6338 - accuracy: 0.8390\n",
      "Epoch 40/100\n",
      "3066/3066 [==============================] - 8s 2ms/step - loss: 0.6338 - accuracy: 0.8390\n",
      "Epoch 41/100\n",
      "3066/3066 [==============================] - 8s 2ms/step - loss: 0.6338 - accuracy: 0.8390\n",
      "Epoch 42/100\n",
      "3066/3066 [==============================] - 8s 2ms/step - loss: 0.6338 - accuracy: 0.8390\n",
      "Epoch 43/100\n",
      "3066/3066 [==============================] - 8s 2ms/step - loss: 0.6343 - accuracy: 0.8390\n",
      "Epoch 44/100\n",
      "3066/3066 [==============================] - 8s 2ms/step - loss: 0.6340 - accuracy: 0.8389\n",
      "Epoch 45/100\n",
      "3066/3066 [==============================] - 8s 2ms/step - loss: 0.6343 - accuracy: 0.8388\n",
      "Epoch 46/100\n",
      "3066/3066 [==============================] - 8s 2ms/step - loss: 0.6337 - accuracy: 0.8390\n",
      "Epoch 47/100\n",
      "3066/3066 [==============================] - 8s 2ms/step - loss: 0.6338 - accuracy: 0.8390\n",
      "Epoch 48/100\n",
      "3066/3066 [==============================] - 8s 2ms/step - loss: 0.6350 - accuracy: 0.8389\n",
      "Epoch 49/100\n",
      "3066/3066 [==============================] - 8s 2ms/step - loss: 0.6343 - accuracy: 0.8390\n",
      "Epoch 50/100\n",
      "3066/3066 [==============================] - 8s 2ms/step - loss: 0.6336 - accuracy: 0.8391\n",
      "Epoch 51/100\n",
      "3066/3066 [==============================] - 8s 2ms/step - loss: 0.6342 - accuracy: 0.8390\n",
      "Epoch 52/100\n",
      "3066/3066 [==============================] - 8s 2ms/step - loss: 0.6356 - accuracy: 0.8388\n",
      "Epoch 53/100\n",
      "3066/3066 [==============================] - 8s 2ms/step - loss: 0.6340 - accuracy: 0.8390\n",
      "Epoch 54/100\n",
      "3066/3066 [==============================] - 8s 2ms/step - loss: 0.6339 - accuracy: 0.8390\n",
      "Epoch 55/100\n",
      "3066/3066 [==============================] - 8s 2ms/step - loss: 0.6342 - accuracy: 0.8390\n",
      "Epoch 56/100\n",
      "3066/3066 [==============================] - 8s 2ms/step - loss: 0.6339 - accuracy: 0.8390\n",
      "Epoch 57/100\n",
      "3066/3066 [==============================] - 8s 2ms/step - loss: 0.6347 - accuracy: 0.8390\n",
      "Epoch 58/100\n",
      "3066/3066 [==============================] - 8s 2ms/step - loss: 0.6335 - accuracy: 0.8391\n",
      "Epoch 59/100\n",
      "3066/3066 [==============================] - 8s 2ms/step - loss: 0.6336 - accuracy: 0.8390\n",
      "Epoch 60/100\n",
      "3066/3066 [==============================] - 8s 2ms/step - loss: 0.6338 - accuracy: 0.8390\n",
      "Epoch 61/100\n",
      "3066/3066 [==============================] - 8s 2ms/step - loss: 0.6336 - accuracy: 0.8391\n",
      "Epoch 62/100\n",
      "3066/3066 [==============================] - 8s 2ms/step - loss: 0.6338 - accuracy: 0.8391\n",
      "Epoch 63/100\n",
      "3066/3066 [==============================] - 8s 2ms/step - loss: 0.6334 - accuracy: 0.8391\n",
      "Epoch 64/100\n",
      "3066/3066 [==============================] - 8s 2ms/step - loss: 0.6339 - accuracy: 0.8390\n",
      "Epoch 65/100\n",
      "3066/3066 [==============================] - 8s 2ms/step - loss: 0.6337 - accuracy: 0.8391\n",
      "Epoch 66/100\n",
      "3066/3066 [==============================] - 8s 2ms/step - loss: 0.6361 - accuracy: 0.8388\n",
      "Epoch 67/100\n",
      "3066/3066 [==============================] - 8s 2ms/step - loss: 0.6334 - accuracy: 0.8391\n",
      "Epoch 68/100\n",
      "3066/3066 [==============================] - 7s 2ms/step - loss: 0.6339 - accuracy: 0.8390\n",
      "Epoch 69/100\n",
      "3066/3066 [==============================] - 8s 2ms/step - loss: 0.6337 - accuracy: 0.8390\n",
      "Epoch 70/100\n",
      "3066/3066 [==============================] - 7s 2ms/step - loss: 0.6338 - accuracy: 0.8390\n",
      "Epoch 71/100\n",
      "3066/3066 [==============================] - 8s 2ms/step - loss: 0.6333 - accuracy: 0.8391\n",
      "Epoch 72/100\n",
      "3066/3066 [==============================] - 8s 2ms/step - loss: 0.6337 - accuracy: 0.8391\n",
      "Epoch 73/100\n",
      "3066/3066 [==============================] - 7s 2ms/step - loss: 0.6334 - accuracy: 0.8391\n",
      "Epoch 74/100\n",
      "3066/3066 [==============================] - 8s 2ms/step - loss: 0.6339 - accuracy: 0.8390\n",
      "Epoch 75/100\n",
      "3066/3066 [==============================] - 8s 2ms/step - loss: 0.6339 - accuracy: 0.8390\n",
      "Epoch 76/100\n",
      "3066/3066 [==============================] - 7s 2ms/step - loss: 0.6334 - accuracy: 0.8391\n",
      "Epoch 77/100\n",
      "3066/3066 [==============================] - 8s 2ms/step - loss: 0.6340 - accuracy: 0.8390\n",
      "Epoch 78/100\n",
      "3066/3066 [==============================] - 7s 2ms/step - loss: 0.6334 - accuracy: 0.8391\n",
      "Epoch 79/100\n",
      "3066/3066 [==============================] - 8s 2ms/step - loss: 0.6335 - accuracy: 0.8391\n"
     ]
    },
    {
     "name": "stdout",
     "output_type": "stream",
     "text": [
      "Epoch 80/100\n",
      "3066/3066 [==============================] - 8s 2ms/step - loss: 0.6338 - accuracy: 0.8391\n",
      "Epoch 81/100\n",
      "3066/3066 [==============================] - 8s 2ms/step - loss: 0.6362 - accuracy: 0.8387\n",
      "Epoch 82/100\n",
      "3066/3066 [==============================] - 8s 2ms/step - loss: 0.6331 - accuracy: 0.8391\n",
      "Epoch 83/100\n",
      "3066/3066 [==============================] - 8s 2ms/step - loss: 0.6337 - accuracy: 0.8391\n",
      "Epoch 84/100\n",
      "3066/3066 [==============================] - 8s 2ms/step - loss: 0.6334 - accuracy: 0.8391\n",
      "Epoch 85/100\n",
      "3066/3066 [==============================] - 8s 2ms/step - loss: 0.6334 - accuracy: 0.8391\n",
      "Epoch 86/100\n",
      "3066/3066 [==============================] - 7s 2ms/step - loss: 0.6339 - accuracy: 0.8390\n",
      "Epoch 87/100\n",
      "3066/3066 [==============================] - 8s 2ms/step - loss: 0.6345 - accuracy: 0.8390\n",
      "Epoch 88/100\n",
      "3066/3066 [==============================] - 8s 2ms/step - loss: 0.6334 - accuracy: 0.8391\n",
      "Epoch 89/100\n",
      "3066/3066 [==============================] - 8s 2ms/step - loss: 0.6339 - accuracy: 0.8390\n",
      "Epoch 90/100\n",
      "3066/3066 [==============================] - 8s 2ms/step - loss: 0.6329 - accuracy: 0.8392\n",
      "Epoch 91/100\n",
      "3066/3066 [==============================] - 8s 2ms/step - loss: 0.6335 - accuracy: 0.8391\n",
      "Epoch 92/100\n",
      "3066/3066 [==============================] - 8s 2ms/step - loss: 0.6334 - accuracy: 0.8391\n",
      "Epoch 93/100\n",
      "3066/3066 [==============================] - 8s 2ms/step - loss: 0.6339 - accuracy: 0.8391\n",
      "Epoch 94/100\n",
      "3066/3066 [==============================] - 8s 2ms/step - loss: 0.6333 - accuracy: 0.8391\n",
      "Epoch 95/100\n",
      "3066/3066 [==============================] - 8s 2ms/step - loss: 0.6336 - accuracy: 0.8391\n",
      "Epoch 96/100\n",
      "3066/3066 [==============================] - 8s 2ms/step - loss: 0.6334 - accuracy: 0.8391\n",
      "Epoch 97/100\n",
      "3066/3066 [==============================] - 8s 2ms/step - loss: 0.6335 - accuracy: 0.8391\n",
      "Epoch 98/100\n",
      "3066/3066 [==============================] - 8s 2ms/step - loss: 0.6334 - accuracy: 0.8391\n",
      "Epoch 99/100\n",
      "3066/3066 [==============================] - 8s 2ms/step - loss: 0.6355 - accuracy: 0.8388\n",
      "Epoch 100/100\n",
      "3066/3066 [==============================] - 8s 2ms/step - loss: 0.6332 - accuracy: 0.8391\n"
     ]
    },
    {
     "data": {
      "text/plain": [
       "<keras.callbacks.History at 0x7f070669da60>"
      ]
     },
     "execution_count": 32,
     "metadata": {},
     "output_type": "execute_result"
    }
   ],
   "source": [
    "# model definition\n",
    "model = ml.Sequential()\n",
    "model.add(l.Dense(256, input_dim=x_train.shape[1], activation='relu'))\n",
    "model.add(l.Dense(12, activation='softmax'))\n",
    "\n",
    "# model_compile\n",
    "model.compile(loss='categorical_crossentropy', optimizer='adam', metrics=['accuracy'])\n",
    "\n",
    "# trin model\n",
    "model.fit(x_train, y_train_nn, epochs=100)"
   ]
  },
  {
   "cell_type": "markdown",
   "id": "c853cb7f",
   "metadata": {},
   "source": [
    "### 5.2.1 - NN Performance"
   ]
  },
  {
   "cell_type": "code",
   "execution_count": 33,
   "id": "c4b34d76",
   "metadata": {
    "ExecuteTime": {
     "end_time": "2022-03-30T01:39:14.758397Z",
     "start_time": "2022-03-30T01:39:13.605138Z"
    }
   },
   "outputs": [],
   "source": [
    "# prediction\n",
    "pred_nn = model.predict(x_test)\n",
    "\n",
    "# invert_prediction\n",
    "yhat_nn = ohe.inverse_transform(pred_nn)\n",
    "\n",
    "# prediction prepare\n",
    "y_test_nn = y_test.to_numpy()\n",
    "yhat_nn = yhat_nn.reshape(1, -1)[0]"
   ]
  },
  {
   "cell_type": "code",
   "execution_count": 34,
   "id": "e74c6706",
   "metadata": {
    "ExecuteTime": {
     "end_time": "2022-03-30T01:39:17.449513Z",
     "start_time": "2022-03-30T01:39:15.474179Z"
    }
   },
   "outputs": [
    {
     "name": "stdout",
     "output_type": "stream",
     "text": [
      "Accuracy: 0.8384703196347032\n",
      "Balanced Accuracy: 0.16664931639947256\n",
      "Kappa Score: 0.7232441822459961\n"
     ]
    },
    {
     "name": "stderr",
     "output_type": "stream",
     "text": [
      "/home/fausto/.local/lib/python3.8/site-packages/sklearn/metrics/_classification.py:1318: UndefinedMetricWarning: Precision and F-score are ill-defined and being set to 0.0 in labels with no predicted samples. Use `zero_division` parameter to control this behavior.\n",
      "  _warn_prf(average, modifier, msg_start, len(result))\n",
      "/home/fausto/.local/lib/python3.8/site-packages/sklearn/metrics/_classification.py:1318: UndefinedMetricWarning: Precision and F-score are ill-defined and being set to 0.0 in labels with no predicted samples. Use `zero_division` parameter to control this behavior.\n",
      "  _warn_prf(average, modifier, msg_start, len(result))\n",
      "/home/fausto/.local/lib/python3.8/site-packages/sklearn/metrics/_classification.py:1318: UndefinedMetricWarning: Precision and F-score are ill-defined and being set to 0.0 in labels with no predicted samples. Use `zero_division` parameter to control this behavior.\n",
      "  _warn_prf(average, modifier, msg_start, len(result))\n"
     ]
    },
    {
     "name": "stdout",
     "output_type": "stream",
     "text": [
      "              precision    recall  f1-score   support\n",
      "\n",
      "          AU       0.00      0.00      0.00        87\n",
      "          CA       0.00      0.00      0.00       216\n",
      "          DE       0.00      0.00      0.00       164\n",
      "          ES       0.00      0.00      0.00       319\n",
      "          FR       0.00      0.00      0.00       736\n",
      "          GB       0.00      0.00      0.00       361\n",
      "          IT       0.00      0.00      0.00       420\n",
      "         NDF       1.00      1.00      1.00     10962\n",
      "          NL       0.00      0.00      0.00       105\n",
      "          PT       0.00      0.00      0.00        31\n",
      "          US       0.71      1.00      0.83      9606\n",
      "       other       0.00      0.00      0.00      1521\n",
      "\n",
      "    accuracy                           0.84     24528\n",
      "   macro avg       0.14      0.17      0.15     24528\n",
      "weighted avg       0.72      0.84      0.77     24528\n",
      "\n"
     ]
    },
    {
     "data": {
      "image/png": "[encoded data removed]",
      "text/plain": [
       "<Figure size 864x864 with 2 Axes>"
      ]
     },
     "metadata": {
      "needs_background": "light"
     },
     "output_type": "display_data"
    }
   ],
   "source": [
    "# Accuracy\n",
    "acc_nn = m.accuracy_score(y_test, yhat_nn)\n",
    "print('Accuracy: {}'.format(acc_nn))\n",
    "\n",
    "# Balanced Accuracy\n",
    "balanced_acc_nn = m.balanced_accuracy_score(y_test_nn, yhat_nn)\n",
    "print('Balanced Accuracy: {}'.format(balanced_acc_nn))\n",
    "\n",
    "# Kappa Metrics\n",
    "kappa_nn = m.cohen_kappa_score(y_test_nn, yhat_nn)\n",
    "print('Kappa Score: {}'.format(kappa_nn))\n",
    "\n",
    "# Classification report\n",
    "print(m.classification_report(y_test_nn, yhat_nn))\n",
    "\n",
    "# Confusion Matrix\n",
    "mt.plot_confusion_matrix(y_test_nn, yhat_nn, normalize=False, figsize=(12, 12));"
   ]
  },
  {
   "cell_type": "markdown",
   "id": "5a232b38",
   "metadata": {
    "heading_collapsed": true
   },
   "source": [
    "### 5.2.2- NN Performance - Cross-Validation"
   ]
  },
  {
   "cell_type": "code",
   "execution_count": null,
   "id": "1629b730",
   "metadata": {
    "ExecuteTime": {
     "end_time": "2022-03-26T17:45:31.639311Z",
     "start_time": "2022-03-26T17:45:31.639292Z"
    },
    "hidden": true
   },
   "outputs": [],
   "source": [
    "# generate k-fold\n",
    "num_folds = 5\n",
    "kfold = ms.StratifiedKFold(n_splits=num_folds, shuffle=True, random_state=32)\n",
    "\n",
    "balanced_acc_list = []\n",
    "kappa_acc_list = []\n",
    "\n",
    "i = 1\n",
    "for train_ix, val_ix in kfold.split(x_train, y_train):\n",
    "    print('Fold number: {}/{}'.format(i, num_folds))\n",
    "    # get fold\n",
    "    x_train_fold = x_train.iloc[train_ix]\n",
    "    y_train_fold = y_train.iloc[train_ix]\n",
    "    \n",
    "    x_val_fold = x_train.iloc[val_ix]\n",
    "    y_val_fold = y_train.iloc[val_ix]\n",
    "    \n",
    "    # target hot_encoding\n",
    "    ohe = pp.OneHotEncoder()\n",
    "    y_train_fold_nn = ohe.fit_transform(y_train_fold.values.reshape(-1,1)).toarray()\n",
    "    \n",
    "    # model definition\n",
    "    model = ml.Sequential()\n",
    "    model.add(l.Dense(256, input_dim=x_train.shape[1],activation='relu'))\n",
    "    model.add(l.Dense(11, activation='softmax'))\n",
    "    \n",
    "    # compile model\n",
    "    model.compile(loss='categorical_crossentropy', optimizer='adam', metrics=['accuracy'])\n",
    "    \n",
    "    # training model\n",
    "    model.fit(x_train_fold, y_train_fold_nn, epochs=100, batch_size=32, verbose=0)\n",
    "    \n",
    "    # prediction\n",
    "    pred_nn = model.predict(x_val_fold)\n",
    "    yhat_nn = ohe.inverse_transform(pred_nn)\n",
    "    \n",
    "    # prepare data\n",
    "    y_test_nn = y_val_fold.to_numpy()\n",
    "    yhat_nn = yhat_nn.reshape(1, -1)[0]\n",
    "    \n",
    "    # metrics\n",
    "    ## Balanced Accuracy\n",
    "    balanced_acc_nn = m.balanced_accuracy_score(y_test_nn, yhat_nn)\n",
    "    balanced_acc_list.append(balanced_acc_nn)\n",
    "    \n",
    "    ## Kappa Accuracy\n",
    "    kappa_acc_nn = m.cohen_kappa_score(y_test_nn, yhat_nn)\n",
    "    kappa_acc_list.append(kappa_acc_nn)\n",
    "    \n",
    "    i += 1"
   ]
  },
  {
   "cell_type": "code",
   "execution_count": null,
   "id": "639b8736",
   "metadata": {
    "ExecuteTime": {
     "end_time": "2022-03-26T17:45:31.640727Z",
     "start_time": "2022-03-26T17:45:31.640709Z"
    },
    "hidden": true
   },
   "outputs": [],
   "source": [
    "print(' Avg Balanced accuracy: {} +/- {}'.format(np.mean(balanced_acc_list), np.std(balanced_acc_list)))\n",
    "print(' Kappa Balanced accuracy: {} +/- {}'.format(np.mean(kappa_acc_list), np.std(kappa_acc_list)))"
   ]
  },
  {
   "cell_type": "code",
   "execution_count": null,
   "id": "01190085",
   "metadata": {
    "hidden": true
   },
   "outputs": [],
   "source": []
  }
 ],
 "metadata": {
  "hide_input": false,
  "kernelspec": {
   "display_name": "Python 3 (ipykernel)",
   "language": "python",
   "name": "python3"
  },
  "language_info": {
   "codemirror_mode": {
    "name": "ipython",
    "version": 3
   },
   "file_extension": ".py",
   "mimetype": "text/x-python",
   "name": "python",
   "nbconvert_exporter": "python",
   "pygments_lexer": "ipython3",
   "version": "3.8.10"
  },
  "varInspector": {
   "cols": {
    "lenName": 16,
    "lenType": 16,
    "lenVar": 40
   },
   "kernels_config": {
    "python": {
     "delete_cmd_postfix": "",
     "delete_cmd_prefix": "del ",
     "library": "var_list.py",
     "varRefreshCmd": "print(var_dic_list())"
    },
    "r": {
     "delete_cmd_postfix": ") ",
     "delete_cmd_prefix": "rm(",
     "library": "var_list.r",
     "varRefreshCmd": "cat(var_dic_list()) "
    }
   },
   "types_to_exclude": [
    "module",
    "function",
    "builtin_function_or_method",
    "instance",
    "_Feature"
   ],
   "window_display": false
  }
 },
 "nbformat": 4,
 "nbformat_minor": 5
}
